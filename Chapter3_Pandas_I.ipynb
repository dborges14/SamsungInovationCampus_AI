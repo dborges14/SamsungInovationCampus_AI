{
  "nbformat": 4,
  "nbformat_minor": 0,
  "metadata": {
    "colab": {
      "name": "Chapter3_Pandas_I.ipynb",
      "provenance": [],
      "collapsed_sections": [],
      "authorship_tag": "ABX9TyOP3BklheBcQVLEqi/No71c",
      "include_colab_link": true
    },
    "kernelspec": {
      "name": "python3",
      "display_name": "Python 3"
    },
    "language_info": {
      "name": "python"
    }
  },
  "cells": [
    {
      "cell_type": "markdown",
      "metadata": {
        "id": "view-in-github",
        "colab_type": "text"
      },
      "source": [
        "<a href=\"https://colab.research.google.com/github/dborges14/SamsungInovationCampus_AI/blob/main/Chapter3_Pandas_I.ipynb\" target=\"_parent\"><img src=\"https://colab.research.google.com/assets/colab-badge.svg\" alt=\"Open In Colab\"/></a>"
      ]
    },
    {
      "cell_type": "markdown",
      "source": [
        "## What is **Pandas** ?\n",
        "\n",
        "- An open source Python library that that provides data structures and data analysis tools.\n",
        "- Provides data wrangling, processing and modeling capabilities for Python comparable to R language.\n",
        "- Highly optimized for performance when dealing with data.\n"
      ],
      "metadata": {
        "id": "DAh50pj4G5B5"
      }
    },
    {
      "cell_type": "markdown",
      "source": [
        "### Structured vs Unstructured data\n",
        "\n",
        "- Unstructured data: such as raw data obtained by web-scraping, log files, etc.\n",
        "- Structured data: such as data contained in CSV files, Excel spreadsheets, SQL tables, etc"
      ],
      "metadata": {
        "id": "J0AQAvqbHMMC"
      }
    },
    {
      "cell_type": "markdown",
      "source": [
        "## Pandas **Series**\n",
        "- Similar to one dimensional NumPy array.\n",
        "- Has attributes such as index, name, etc.\n",
        "- Supports vectorized operations."
      ],
      "metadata": {
        "id": "B2eDC3reHek5"
      }
    },
    {
      "cell_type": "code",
      "execution_count": 5,
      "metadata": {
        "id": "BeppDnl2kRbl"
      },
      "outputs": [],
      "source": [
        "import pandas as pd\n",
        "import numpy as np"
      ]
    },
    {
      "cell_type": "code",
      "source": [
        "data = {\"Brown\":[220], \"Blue\":[215], \"Hazel\":[93], \"Green\":[64]}\n",
        "df = pd.DataFrame(data)\n",
        "type(df)\t\t\t\t\t     # 'df' is a DataFrame object. "
      ],
      "metadata": {
        "colab": {
          "base_uri": "https://localhost:8080/"
        },
        "id": "2axnl0tWIgn5",
        "outputId": "b2d8d576-972d-46de-8938-8ebdac093cd7"
      },
      "execution_count": 70,
      "outputs": [
        {
          "output_type": "execute_result",
          "data": {
            "text/plain": [
              "pandas.core.frame.DataFrame"
            ]
          },
          "metadata": {},
          "execution_count": 70
        }
      ]
    },
    {
      "cell_type": "code",
      "source": [
        "type(df['Brown'])\t\t\t\t\t     # A column of 'df' is a Series object."
      ],
      "metadata": {
        "colab": {
          "base_uri": "https://localhost:8080/"
        },
        "id": "uPZXlw7uIAiF",
        "outputId": "cd2afe17-a319-4cda-d2cb-4476bc300fb6"
      },
      "execution_count": 73,
      "outputs": [
        {
          "output_type": "execute_result",
          "data": {
            "text/plain": [
              "pandas.core.series.Series"
            ]
          },
          "metadata": {},
          "execution_count": 73
        }
      ]
    },
    {
      "cell_type": "code",
      "source": [
        "my_data = np.array([220, 215, 93,64])\n",
        "eye = pd.Series(data=my_data, index=['Brown','Blue','Hazel','Green'], name='Eye color count')    # Create a new Series object.\n",
        "eye"
      ],
      "metadata": {
        "colab": {
          "base_uri": "https://localhost:8080/"
        },
        "id": "MMuxUa30ICaU",
        "outputId": "030d5c06-733a-4025-f77e-e84e7d7f8445"
      },
      "execution_count": 18,
      "outputs": [
        {
          "output_type": "execute_result",
          "data": {
            "text/plain": [
              "Brown    220\n",
              "Blue     215\n",
              "Hazel     93\n",
              "Green     64\n",
              "Name: Eye color count, dtype: int64"
            ]
          },
          "metadata": {},
          "execution_count": 18
        }
      ]
    },
    {
      "cell_type": "markdown",
      "source": [
        "**Series** attributes and methods:"
      ],
      "metadata": {
        "id": "3-8AjfeOvhD0"
      }
    },
    {
      "cell_type": "code",
      "source": [
        "ser = eye"
      ],
      "metadata": {
        "id": "GLavuOZOvYF2"
      },
      "execution_count": 19,
      "outputs": []
    },
    {
      "cell_type": "code",
      "source": [
        "print(ser.name)\t\t\t# Name attribute of the Series object 'ser'."
      ],
      "metadata": {
        "colab": {
          "base_uri": "https://localhost:8080/"
        },
        "id": "00qWIW9HvQaJ",
        "outputId": "04d99210-7179-4b4a-ed88-f8c1661783b1"
      },
      "execution_count": 20,
      "outputs": [
        {
          "output_type": "stream",
          "name": "stdout",
          "text": [
            "Eye color count\n"
          ]
        }
      ]
    },
    {
      "cell_type": "code",
      "source": [
        "ser.index\t\t\t# Index attribute of the Series object 'ser'."
      ],
      "metadata": {
        "colab": {
          "base_uri": "https://localhost:8080/"
        },
        "id": "KPUV1bX5vQWV",
        "outputId": "03d18b10-47a9-4fb0-ffec-e097c33ceea5"
      },
      "execution_count": 21,
      "outputs": [
        {
          "output_type": "execute_result",
          "data": {
            "text/plain": [
              "Index(['Brown', 'Blue', 'Hazel', 'Green'], dtype='object')"
            ]
          },
          "metadata": {},
          "execution_count": 21
        }
      ]
    },
    {
      "cell_type": "code",
      "source": [
        "ser.values\t\t\t# Values of the Series given as a NumPy array."
      ],
      "metadata": {
        "colab": {
          "base_uri": "https://localhost:8080/"
        },
        "id": "MzQnEHH2vQTU",
        "outputId": "16240731-40bb-4f59-92a8-2a61a4b1368b"
      },
      "execution_count": 22,
      "outputs": [
        {
          "output_type": "execute_result",
          "data": {
            "text/plain": [
              "array([220, 215,  93,  64])"
            ]
          },
          "metadata": {},
          "execution_count": 22
        }
      ]
    },
    {
      "cell_type": "code",
      "source": [
        "ser.sort_values()\t\t\t# Sort the Series values from the smallest to the largest."
      ],
      "metadata": {
        "colab": {
          "base_uri": "https://localhost:8080/"
        },
        "id": "7P5UFs7Eu5oA",
        "outputId": "5d697f7b-7826-4cff-c89a-1d26d3b94ad1"
      },
      "execution_count": 23,
      "outputs": [
        {
          "output_type": "execute_result",
          "data": {
            "text/plain": [
              "Green     64\n",
              "Hazel     93\n",
              "Blue     215\n",
              "Brown    220\n",
              "Name: Eye color count, dtype: int64"
            ]
          },
          "metadata": {},
          "execution_count": 23
        }
      ]
    },
    {
      "cell_type": "code",
      "source": [
        "ser.sort_index()\t\t\t# Sort the Series indices from the smallest to the largest. (or alphabetic order)"
      ],
      "metadata": {
        "colab": {
          "base_uri": "https://localhost:8080/"
        },
        "id": "e9ge8RFau638",
        "outputId": "57165c27-56ce-41c3-980b-0e2844f70f9f"
      },
      "execution_count": 24,
      "outputs": [
        {
          "output_type": "execute_result",
          "data": {
            "text/plain": [
              "Blue     215\n",
              "Brown    220\n",
              "Green     64\n",
              "Hazel     93\n",
              "Name: Eye color count, dtype: int64"
            ]
          },
          "metadata": {},
          "execution_count": 24
        }
      ]
    },
    {
      "cell_type": "code",
      "source": [
        "ser.nunique()\t\t\t# Number of unique values in the Series."
      ],
      "metadata": {
        "colab": {
          "base_uri": "https://localhost:8080/"
        },
        "id": "Ndl-2dcwu7wq",
        "outputId": "7e6303a5-ba0c-4219-f3c9-81444045ec6f"
      },
      "execution_count": 25,
      "outputs": [
        {
          "output_type": "execute_result",
          "data": {
            "text/plain": [
              "4"
            ]
          },
          "metadata": {},
          "execution_count": 25
        }
      ]
    },
    {
      "cell_type": "code",
      "source": [
        "ser.unique()\t\t\t# Unique values of the Series given as a NumPy array"
      ],
      "metadata": {
        "colab": {
          "base_uri": "https://localhost:8080/"
        },
        "id": "kCcquxt7u7uR",
        "outputId": "fbcc4f38-76a8-47e3-f8c7-e06d2dcc2435"
      },
      "execution_count": 26,
      "outputs": [
        {
          "output_type": "execute_result",
          "data": {
            "text/plain": [
              "array([220, 215,  93,  64])"
            ]
          },
          "metadata": {},
          "execution_count": 26
        }
      ]
    },
    {
      "cell_type": "code",
      "source": [
        "rser = pd.Series(np.random.randint(1,5,20))\n",
        "rser.value_counts()\t\t\t# Returns a frequency table."
      ],
      "metadata": {
        "colab": {
          "base_uri": "https://localhost:8080/"
        },
        "id": "1R2CJv_Xu7rb",
        "outputId": "6b22228e-dbf0-419c-b411-1cdcb82c07a7"
      },
      "execution_count": 59,
      "outputs": [
        {
          "output_type": "execute_result",
          "data": {
            "text/plain": [
              "4    5\n",
              "3    5\n",
              "2    5\n",
              "1    5\n",
              "dtype: int64"
            ]
          },
          "metadata": {},
          "execution_count": 59
        }
      ]
    },
    {
      "cell_type": "code",
      "source": [
        ""
      ],
      "metadata": {
        "id": "kCtml1iAu61A"
      },
      "execution_count": null,
      "outputs": []
    },
    {
      "cell_type": "code",
      "source": [
        ""
      ],
      "metadata": {
        "id": "opJwnvQwu6wB"
      },
      "execution_count": null,
      "outputs": []
    },
    {
      "cell_type": "code",
      "source": [
        ""
      ],
      "metadata": {
        "id": "vlh7ABQ7u6tp"
      },
      "execution_count": null,
      "outputs": []
    },
    {
      "cell_type": "code",
      "source": [
        ""
      ],
      "metadata": {
        "id": "Ahx9-A_Ou6qw"
      },
      "execution_count": null,
      "outputs": []
    }
  ]
}