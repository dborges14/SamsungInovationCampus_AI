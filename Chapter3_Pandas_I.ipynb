{
  "nbformat": 4,
  "nbformat_minor": 0,
  "metadata": {
    "colab": {
      "name": "Chapter3_Pandas_I.ipynb",
      "provenance": [],
      "collapsed_sections": [],
      "authorship_tag": "ABX9TyP4/aWXzrzvOTcezGxOeFsx",
      "include_colab_link": true
    },
    "kernelspec": {
      "name": "python3",
      "display_name": "Python 3"
    },
    "language_info": {
      "name": "python"
    }
  },
  "cells": [
    {
      "cell_type": "markdown",
      "metadata": {
        "id": "view-in-github",
        "colab_type": "text"
      },
      "source": [
        "<a href=\"https://colab.research.google.com/github/dborges14/SamsungInovationCampus_AI/blob/main/Chapter3_Pandas_I.ipynb\" target=\"_parent\"><img src=\"https://colab.research.google.com/assets/colab-badge.svg\" alt=\"Open In Colab\"/></a>"
      ]
    },
    {
      "cell_type": "markdown",
      "source": [
        "## What is **Pandas** ?\n",
        "\n",
        "- An open source Python library that that provides data structures and data analysis tools.\n",
        "- Provides data wrangling, processing and modeling capabilities for Python comparable to R language.\n",
        "- Highly optimized for performance when dealing with data.\n"
      ],
      "metadata": {
        "id": "DAh50pj4G5B5"
      }
    },
    {
      "cell_type": "markdown",
      "source": [
        "### Structured vs Unstructured data\n",
        "\n",
        "- Unstructured data: such as raw data obtained by web-scraping, log files, etc.\n",
        "- Structured data: such as data contained in CSV files, Excel spreadsheets, SQL tables, etc"
      ],
      "metadata": {
        "id": "J0AQAvqbHMMC"
      }
    },
    {
      "cell_type": "markdown",
      "source": [
        "## Pandas **Series**\n",
        "- Similar to one dimensional NumPy array.\n",
        "- Has attributes such as index, name, etc.\n",
        "- Supports vectorized operations."
      ],
      "metadata": {
        "id": "B2eDC3reHek5"
      }
    },
    {
      "cell_type": "code",
      "execution_count": 5,
      "metadata": {
        "id": "BeppDnl2kRbl"
      },
      "outputs": [],
      "source": [
        "import pandas as pd\n",
        "import numpy as np"
      ]
    },
    {
      "cell_type": "code",
      "source": [
        "data = {\"Brown\":[220], \"Blue\":[215], \"Hazel\":[93], \"Green\":[64]}\n",
        "df = pd.DataFrame(data)\n",
        "type(df)\t\t\t\t\t     # 'df' is a DataFrame object. "
      ],
      "metadata": {
        "colab": {
          "base_uri": "https://localhost:8080/"
        },
        "id": "2axnl0tWIgn5",
        "outputId": "b2d8d576-972d-46de-8938-8ebdac093cd7"
      },
      "execution_count": 70,
      "outputs": [
        {
          "output_type": "execute_result",
          "data": {
            "text/plain": [
              "pandas.core.frame.DataFrame"
            ]
          },
          "metadata": {},
          "execution_count": 70
        }
      ]
    },
    {
      "cell_type": "code",
      "source": [
        "type(df['Brown'])\t\t\t\t\t     # A column of 'df' is a Series object."
      ],
      "metadata": {
        "colab": {
          "base_uri": "https://localhost:8080/"
        },
        "id": "uPZXlw7uIAiF",
        "outputId": "cd2afe17-a319-4cda-d2cb-4476bc300fb6"
      },
      "execution_count": 73,
      "outputs": [
        {
          "output_type": "execute_result",
          "data": {
            "text/plain": [
              "pandas.core.series.Series"
            ]
          },
          "metadata": {},
          "execution_count": 73
        }
      ]
    },
    {
      "cell_type": "code",
      "source": [
        "my_data = np.array([220, 215, 93,64])\n",
        "eye = pd.Series(data=my_data, index=['Brown','Blue','Hazel','Green'], name='Eye color count')    # Create a new Series object.\n",
        "eye"
      ],
      "metadata": {
        "colab": {
          "base_uri": "https://localhost:8080/"
        },
        "id": "MMuxUa30ICaU",
        "outputId": "030d5c06-733a-4025-f77e-e84e7d7f8445"
      },
      "execution_count": 18,
      "outputs": [
        {
          "output_type": "execute_result",
          "data": {
            "text/plain": [
              "Brown    220\n",
              "Blue     215\n",
              "Hazel     93\n",
              "Green     64\n",
              "Name: Eye color count, dtype: int64"
            ]
          },
          "metadata": {},
          "execution_count": 18
        }
      ]
    },
    {
      "cell_type": "markdown",
      "source": [
        "**Series** attributes and methods:"
      ],
      "metadata": {
        "id": "3-8AjfeOvhD0"
      }
    },
    {
      "cell_type": "code",
      "source": [
        "ser = eye"
      ],
      "metadata": {
        "id": "GLavuOZOvYF2"
      },
      "execution_count": 19,
      "outputs": []
    },
    {
      "cell_type": "code",
      "source": [
        "print(ser.name)\t\t\t# Name attribute of the Series object 'ser'."
      ],
      "metadata": {
        "colab": {
          "base_uri": "https://localhost:8080/"
        },
        "id": "00qWIW9HvQaJ",
        "outputId": "04d99210-7179-4b4a-ed88-f8c1661783b1"
      },
      "execution_count": 20,
      "outputs": [
        {
          "output_type": "stream",
          "name": "stdout",
          "text": [
            "Eye color count\n"
          ]
        }
      ]
    },
    {
      "cell_type": "code",
      "source": [
        "ser.index\t\t\t# Index attribute of the Series object 'ser'."
      ],
      "metadata": {
        "colab": {
          "base_uri": "https://localhost:8080/"
        },
        "id": "KPUV1bX5vQWV",
        "outputId": "03d18b10-47a9-4fb0-ffec-e097c33ceea5"
      },
      "execution_count": 21,
      "outputs": [
        {
          "output_type": "execute_result",
          "data": {
            "text/plain": [
              "Index(['Brown', 'Blue', 'Hazel', 'Green'], dtype='object')"
            ]
          },
          "metadata": {},
          "execution_count": 21
        }
      ]
    },
    {
      "cell_type": "code",
      "source": [
        "ser.values\t\t\t# Values of the Series given as a NumPy array."
      ],
      "metadata": {
        "colab": {
          "base_uri": "https://localhost:8080/"
        },
        "id": "MzQnEHH2vQTU",
        "outputId": "16240731-40bb-4f59-92a8-2a61a4b1368b"
      },
      "execution_count": 22,
      "outputs": [
        {
          "output_type": "execute_result",
          "data": {
            "text/plain": [
              "array([220, 215,  93,  64])"
            ]
          },
          "metadata": {},
          "execution_count": 22
        }
      ]
    },
    {
      "cell_type": "code",
      "source": [
        "ser.sort_values()\t\t\t# Sort the Series values from the smallest to the largest."
      ],
      "metadata": {
        "colab": {
          "base_uri": "https://localhost:8080/"
        },
        "id": "7P5UFs7Eu5oA",
        "outputId": "5d697f7b-7826-4cff-c89a-1d26d3b94ad1"
      },
      "execution_count": 23,
      "outputs": [
        {
          "output_type": "execute_result",
          "data": {
            "text/plain": [
              "Green     64\n",
              "Hazel     93\n",
              "Blue     215\n",
              "Brown    220\n",
              "Name: Eye color count, dtype: int64"
            ]
          },
          "metadata": {},
          "execution_count": 23
        }
      ]
    },
    {
      "cell_type": "code",
      "source": [
        "ser.sort_index()\t\t\t# Sort the Series indices from the smallest to the largest. (or alphabetic order)"
      ],
      "metadata": {
        "colab": {
          "base_uri": "https://localhost:8080/"
        },
        "id": "e9ge8RFau638",
        "outputId": "57165c27-56ce-41c3-980b-0e2844f70f9f"
      },
      "execution_count": 24,
      "outputs": [
        {
          "output_type": "execute_result",
          "data": {
            "text/plain": [
              "Blue     215\n",
              "Brown    220\n",
              "Green     64\n",
              "Hazel     93\n",
              "Name: Eye color count, dtype: int64"
            ]
          },
          "metadata": {},
          "execution_count": 24
        }
      ]
    },
    {
      "cell_type": "code",
      "source": [
        "ser.nunique()\t\t\t# Number of unique values in the Series."
      ],
      "metadata": {
        "colab": {
          "base_uri": "https://localhost:8080/"
        },
        "id": "Ndl-2dcwu7wq",
        "outputId": "7e6303a5-ba0c-4219-f3c9-81444045ec6f"
      },
      "execution_count": 25,
      "outputs": [
        {
          "output_type": "execute_result",
          "data": {
            "text/plain": [
              "4"
            ]
          },
          "metadata": {},
          "execution_count": 25
        }
      ]
    },
    {
      "cell_type": "code",
      "source": [
        "ser.unique()\t\t\t# Unique values of the Series given as a NumPy array"
      ],
      "metadata": {
        "colab": {
          "base_uri": "https://localhost:8080/"
        },
        "id": "kCcquxt7u7uR",
        "outputId": "fbcc4f38-76a8-47e3-f8c7-e06d2dcc2435"
      },
      "execution_count": 26,
      "outputs": [
        {
          "output_type": "execute_result",
          "data": {
            "text/plain": [
              "array([220, 215,  93,  64])"
            ]
          },
          "metadata": {},
          "execution_count": 26
        }
      ]
    },
    {
      "cell_type": "code",
      "source": [
        "rser = pd.Series(np.random.randint(1,10,50))    # 50 random integers between 1 and 9\n",
        "rser.value_counts()\t\t\t# Returns a frequency table."
      ],
      "metadata": {
        "colab": {
          "base_uri": "https://localhost:8080/"
        },
        "id": "1R2CJv_Xu7rb",
        "outputId": "ca63be59-38de-4d14-e205-62846261cbb5"
      },
      "execution_count": 83,
      "outputs": [
        {
          "output_type": "execute_result",
          "data": {
            "text/plain": [
              "5    9\n",
              "9    7\n",
              "8    7\n",
              "7    7\n",
              "6    6\n",
              "2    5\n",
              "1    5\n",
              "4    2\n",
              "3    2\n",
              "dtype: int64"
            ]
          },
          "metadata": {},
          "execution_count": 83
        }
      ]
    },
    {
      "cell_type": "code",
      "source": [
        "ser = pd.Series([0,10,20,30,40], index = ['a','b','c','d','e'])\t# Create a Series object."
      ],
      "metadata": {
        "id": "kCtml1iAu61A"
      },
      "execution_count": 74,
      "outputs": []
    },
    {
      "cell_type": "code",
      "source": [
        "ser[1]     # Element at the position 1."
      ],
      "metadata": {
        "colab": {
          "base_uri": "https://localhost:8080/"
        },
        "id": "opJwnvQwu6wB",
        "outputId": "82dca395-7b2d-417f-cc7c-c9f47b046b25"
      },
      "execution_count": 75,
      "outputs": [
        {
          "output_type": "execute_result",
          "data": {
            "text/plain": [
              "10"
            ]
          },
          "metadata": {},
          "execution_count": 75
        }
      ]
    },
    {
      "cell_type": "code",
      "source": [
        "ser['b']     # Element at the position 'b’."
      ],
      "metadata": {
        "colab": {
          "base_uri": "https://localhost:8080/"
        },
        "id": "vlh7ABQ7u6tp",
        "outputId": "bbdb7d72-9fbe-4bac-fe8d-33eb48e285a6"
      },
      "execution_count": 77,
      "outputs": [
        {
          "output_type": "execute_result",
          "data": {
            "text/plain": [
              "10"
            ]
          },
          "metadata": {},
          "execution_count": 77
        }
      ]
    },
    {
      "cell_type": "code",
      "source": [
        "ser[1:3]     # Get the elements at the positions 1 and 2."
      ],
      "metadata": {
        "colab": {
          "base_uri": "https://localhost:8080/"
        },
        "id": "Ahx9-A_Ou6qw",
        "outputId": "6d571a7a-195f-478e-f7c6-29750dd85484"
      },
      "execution_count": 78,
      "outputs": [
        {
          "output_type": "execute_result",
          "data": {
            "text/plain": [
              "b    10\n",
              "c    20\n",
              "dtype: int64"
            ]
          },
          "metadata": {},
          "execution_count": 78
        }
      ]
    },
    {
      "cell_type": "code",
      "source": [
        "ser1 = pd.Series([0,1,2,3,4], index = [0,1,2,3,4]) \t# Create a Series.\n",
        "ser2 = pd.Series([0,1,2,3,4], index = [4,3,2,1,0]) \t# Create a Series.\n",
        "#ser1 + ser2                              \t\t\t# Element-wise addition matched by the index."
      ],
      "metadata": {
        "colab": {
          "base_uri": "https://localhost:8080/"
        },
        "id": "RfXXJqJ9GBsP",
        "outputId": "0927b2db-2f7a-41db-e0f9-45a5173ce24c"
      },
      "execution_count": 93,
      "outputs": [
        {
          "output_type": "execute_result",
          "data": {
            "text/plain": [
              "0    1\n",
              "1    4\n",
              "2    4\n",
              "3    4\n",
              "4    8\n",
              "dtype: int64"
            ]
          },
          "metadata": {},
          "execution_count": 93
        }
      ]
    },
    {
      "cell_type": "code",
      "source": [
        "ser3 = ser1 * ser2             # Element-wise multiplication matched by the index.\n",
        "#ser3"
      ],
      "metadata": {
        "colab": {
          "base_uri": "https://localhost:8080/"
        },
        "id": "cA2s2rsfGI35",
        "outputId": "2731fac2-3153-4a74-b3cc-d9f98cd48c44"
      },
      "execution_count": 89,
      "outputs": [
        {
          "output_type": "execute_result",
          "data": {
            "text/plain": [
              "0    0\n",
              "1    3\n",
              "2    4\n",
              "3    3\n",
              "4    0\n",
              "dtype: int64"
            ]
          },
          "metadata": {},
          "execution_count": 89
        }
      ]
    },
    {
      "cell_type": "code",
      "source": [
        "ser4 = ser1/2                         # Divide a Series by a scalar value.\n",
        "#ser4"
      ],
      "metadata": {
        "colab": {
          "base_uri": "https://localhost:8080/"
        },
        "id": "DR6ejH_9GMIl",
        "outputId": "02735bca-1981-4aad-b2b4-2c97e64e18ce"
      },
      "execution_count": 95,
      "outputs": [
        {
          "output_type": "execute_result",
          "data": {
            "text/plain": [
              "0    0.0\n",
              "1    0.5\n",
              "2    1.0\n",
              "3    1.5\n",
              "4    2.0\n",
              "dtype: float64"
            ]
          },
          "metadata": {},
          "execution_count": 95
        }
      ]
    },
    {
      "cell_type": "code",
      "source": [
        "ser_height = pd.Series([165.3, 170.1, 175.0, 182.1, 168.0, 162.0, 155.2, 176.9, 178.5, 176.1, 167.1, 180.0, 162.2, 176.1, 158.2, 168.6, 169.2])\n",
        "print(ser_height)\n",
        "#ser_height.apply(lambda x: x/100)            # Apply element-wise a lambda function."
      ],
      "metadata": {
        "colab": {
          "base_uri": "https://localhost:8080/"
        },
        "id": "bawe3nz7G86U",
        "outputId": "a76822a8-08d3-4a9f-ca75-a9e9e84f9be6"
      },
      "execution_count": 98,
      "outputs": [
        {
          "output_type": "stream",
          "name": "stdout",
          "text": [
            "0     165.3\n",
            "1     170.1\n",
            "2     175.0\n",
            "3     182.1\n",
            "4     168.0\n",
            "5     162.0\n",
            "6     155.2\n",
            "7     176.9\n",
            "8     178.5\n",
            "9     176.1\n",
            "10    167.1\n",
            "11    180.0\n",
            "12    162.2\n",
            "13    176.1\n",
            "14    158.2\n",
            "15    168.6\n",
            "16    169.2\n",
            "dtype: float64\n"
          ]
        }
      ]
    },
    {
      "cell_type": "markdown",
      "source": [
        "Time for exercise **'ex_0204.ipynb'**"
      ],
      "metadata": {
        "id": "0_-Z26k4G9e9"
      }
    },
    {
      "cell_type": "markdown",
      "source": [
        "## Pandas **DataFrame**"
      ],
      "metadata": {
        "id": "-osUXpylH-La"
      }
    },
    {
      "cell_type": "markdown",
      "source": [
        "![image.png](data:image/png;base64,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)"
      ],
      "metadata": {
        "id": "3Efq6kLNIMoP"
      }
    },
    {
      "cell_type": "markdown",
      "source": [
        "DataFrame attributes and methods"
      ],
      "metadata": {
        "id": "RkJ4kOxLI82T"
      }
    },
    {
      "cell_type": "code",
      "source": [
        "data = { 'NAME' : ['Jake', 'Jennifer', 'Paul', 'Andrew'], 'AGE': [24,21,25,19], 'GENDER':['M','F','M','M'],'COUNTRY':['USA','DEU','CA','UKR']}\n",
        "df = pd.DataFrame(data)\t\t\t# Create a DataFrame from a dictionary object.\n",
        "df\n"
      ],
      "metadata": {
        "colab": {
          "base_uri": "https://localhost:8080/",
          "height": 175
        },
        "id": "1A6zH2tAJ9Ri",
        "outputId": "b07ee168-1ea4-4a2e-f4b8-021cc3a79397"
      },
      "execution_count": 208,
      "outputs": [
        {
          "output_type": "execute_result",
          "data": {
            "text/html": [
              "\n",
              "  <div id=\"df-b5269df5-99e0-4cbd-85aa-8e87266f43c8\">\n",
              "    <div class=\"colab-df-container\">\n",
              "      <div>\n",
              "<style scoped>\n",
              "    .dataframe tbody tr th:only-of-type {\n",
              "        vertical-align: middle;\n",
              "    }\n",
              "\n",
              "    .dataframe tbody tr th {\n",
              "        vertical-align: top;\n",
              "    }\n",
              "\n",
              "    .dataframe thead th {\n",
              "        text-align: right;\n",
              "    }\n",
              "</style>\n",
              "<table border=\"1\" class=\"dataframe\">\n",
              "  <thead>\n",
              "    <tr style=\"text-align: right;\">\n",
              "      <th></th>\n",
              "      <th>NAME</th>\n",
              "      <th>AGE</th>\n",
              "      <th>GENDER</th>\n",
              "      <th>COUNTRY</th>\n",
              "    </tr>\n",
              "  </thead>\n",
              "  <tbody>\n",
              "    <tr>\n",
              "      <th>0</th>\n",
              "      <td>Jake</td>\n",
              "      <td>24</td>\n",
              "      <td>M</td>\n",
              "      <td>USA</td>\n",
              "    </tr>\n",
              "    <tr>\n",
              "      <th>1</th>\n",
              "      <td>Jennifer</td>\n",
              "      <td>21</td>\n",
              "      <td>F</td>\n",
              "      <td>DEU</td>\n",
              "    </tr>\n",
              "    <tr>\n",
              "      <th>2</th>\n",
              "      <td>Paul</td>\n",
              "      <td>25</td>\n",
              "      <td>M</td>\n",
              "      <td>CA</td>\n",
              "    </tr>\n",
              "    <tr>\n",
              "      <th>3</th>\n",
              "      <td>Andrew</td>\n",
              "      <td>19</td>\n",
              "      <td>M</td>\n",
              "      <td>UKR</td>\n",
              "    </tr>\n",
              "  </tbody>\n",
              "</table>\n",
              "</div>\n",
              "      <button class=\"colab-df-convert\" onclick=\"convertToInteractive('df-b5269df5-99e0-4cbd-85aa-8e87266f43c8')\"\n",
              "              title=\"Convert this dataframe to an interactive table.\"\n",
              "              style=\"display:none;\">\n",
              "        \n",
              "  <svg xmlns=\"http://www.w3.org/2000/svg\" height=\"24px\"viewBox=\"0 0 24 24\"\n",
              "       width=\"24px\">\n",
              "    <path d=\"M0 0h24v24H0V0z\" fill=\"none\"/>\n",
              "    <path d=\"M18.56 5.44l.94 2.06.94-2.06 2.06-.94-2.06-.94-.94-2.06-.94 2.06-2.06.94zm-11 1L8.5 8.5l.94-2.06 2.06-.94-2.06-.94L8.5 2.5l-.94 2.06-2.06.94zm10 10l.94 2.06.94-2.06 2.06-.94-2.06-.94-.94-2.06-.94 2.06-2.06.94z\"/><path d=\"M17.41 7.96l-1.37-1.37c-.4-.4-.92-.59-1.43-.59-.52 0-1.04.2-1.43.59L10.3 9.45l-7.72 7.72c-.78.78-.78 2.05 0 2.83L4 21.41c.39.39.9.59 1.41.59.51 0 1.02-.2 1.41-.59l7.78-7.78 2.81-2.81c.8-.78.8-2.07 0-2.86zM5.41 20L4 18.59l7.72-7.72 1.47 1.35L5.41 20z\"/>\n",
              "  </svg>\n",
              "      </button>\n",
              "      \n",
              "  <style>\n",
              "    .colab-df-container {\n",
              "      display:flex;\n",
              "      flex-wrap:wrap;\n",
              "      gap: 12px;\n",
              "    }\n",
              "\n",
              "    .colab-df-convert {\n",
              "      background-color: #E8F0FE;\n",
              "      border: none;\n",
              "      border-radius: 50%;\n",
              "      cursor: pointer;\n",
              "      display: none;\n",
              "      fill: #1967D2;\n",
              "      height: 32px;\n",
              "      padding: 0 0 0 0;\n",
              "      width: 32px;\n",
              "    }\n",
              "\n",
              "    .colab-df-convert:hover {\n",
              "      background-color: #E2EBFA;\n",
              "      box-shadow: 0px 1px 2px rgba(60, 64, 67, 0.3), 0px 1px 3px 1px rgba(60, 64, 67, 0.15);\n",
              "      fill: #174EA6;\n",
              "    }\n",
              "\n",
              "    [theme=dark] .colab-df-convert {\n",
              "      background-color: #3B4455;\n",
              "      fill: #D2E3FC;\n",
              "    }\n",
              "\n",
              "    [theme=dark] .colab-df-convert:hover {\n",
              "      background-color: #434B5C;\n",
              "      box-shadow: 0px 1px 3px 1px rgba(0, 0, 0, 0.15);\n",
              "      filter: drop-shadow(0px 1px 2px rgba(0, 0, 0, 0.3));\n",
              "      fill: #FFFFFF;\n",
              "    }\n",
              "  </style>\n",
              "\n",
              "      <script>\n",
              "        const buttonEl =\n",
              "          document.querySelector('#df-b5269df5-99e0-4cbd-85aa-8e87266f43c8 button.colab-df-convert');\n",
              "        buttonEl.style.display =\n",
              "          google.colab.kernel.accessAllowed ? 'block' : 'none';\n",
              "\n",
              "        async function convertToInteractive(key) {\n",
              "          const element = document.querySelector('#df-b5269df5-99e0-4cbd-85aa-8e87266f43c8');\n",
              "          const dataTable =\n",
              "            await google.colab.kernel.invokeFunction('convertToInteractive',\n",
              "                                                     [key], {});\n",
              "          if (!dataTable) return;\n",
              "\n",
              "          const docLinkHtml = 'Like what you see? Visit the ' +\n",
              "            '<a target=\"_blank\" href=https://colab.research.google.com/notebooks/data_table.ipynb>data table notebook</a>'\n",
              "            + ' to learn more about interactive tables.';\n",
              "          element.innerHTML = '';\n",
              "          dataTable['output_type'] = 'display_data';\n",
              "          await google.colab.output.renderOutput(dataTable, element);\n",
              "          const docLink = document.createElement('div');\n",
              "          docLink.innerHTML = docLinkHtml;\n",
              "          element.appendChild(docLink);\n",
              "        }\n",
              "      </script>\n",
              "    </div>\n",
              "  </div>\n",
              "  "
            ],
            "text/plain": [
              "       NAME  AGE GENDER COUNTRY\n",
              "0      Jake   24      M     USA\n",
              "1  Jennifer   21      F     DEU\n",
              "2      Paul   25      M      CA\n",
              "3    Andrew   19      M     UKR"
            ]
          },
          "metadata": {},
          "execution_count": 208
        }
      ]
    },
    {
      "cell_type": "code",
      "source": [
        "type(df.NAME)"
      ],
      "metadata": {
        "colab": {
          "base_uri": "https://localhost:8080/"
        },
        "id": "UisfgLXGKWy2",
        "outputId": "88e001ea-0bfd-4d3f-f8d0-4d814f5c3d37"
      },
      "execution_count": 191,
      "outputs": [
        {
          "output_type": "execute_result",
          "data": {
            "text/plain": [
              "pandas.core.series.Series"
            ]
          },
          "metadata": {},
          "execution_count": 191
        }
      ]
    },
    {
      "cell_type": "code",
      "source": [
        "df.info() \t\t\t# Show the information such as non-null values, data types, etc."
      ],
      "metadata": {
        "colab": {
          "base_uri": "https://localhost:8080/"
        },
        "id": "VSmJhIMKI8dE",
        "outputId": "a9733461-9db8-473a-f597-83526d52350b"
      },
      "execution_count": 192,
      "outputs": [
        {
          "output_type": "stream",
          "name": "stdout",
          "text": [
            "<class 'pandas.core.frame.DataFrame'>\n",
            "RangeIndex: 4 entries, 0 to 3\n",
            "Data columns (total 3 columns):\n",
            " #   Column  Non-Null Count  Dtype \n",
            "---  ------  --------------  ----- \n",
            " 0   NAME    4 non-null      object\n",
            " 1   AGE     4 non-null      int64 \n",
            " 2   GENDER  4 non-null      object\n",
            "dtypes: int64(1), object(2)\n",
            "memory usage: 224.0+ bytes\n"
          ]
        }
      ]
    },
    {
      "cell_type": "code",
      "source": [
        "df.head(3)\t \t\t# Return the topmost n rows."
      ],
      "metadata": {
        "colab": {
          "base_uri": "https://localhost:8080/",
          "height": 144
        },
        "id": "FU9vmALyH-uO",
        "outputId": "bfd5e03d-bf67-48be-d629-ee8f7bdb43a7"
      },
      "execution_count": 193,
      "outputs": [
        {
          "output_type": "execute_result",
          "data": {
            "text/html": [
              "\n",
              "  <div id=\"df-5a80065a-0b99-491b-a81c-a38c0e332b5a\">\n",
              "    <div class=\"colab-df-container\">\n",
              "      <div>\n",
              "<style scoped>\n",
              "    .dataframe tbody tr th:only-of-type {\n",
              "        vertical-align: middle;\n",
              "    }\n",
              "\n",
              "    .dataframe tbody tr th {\n",
              "        vertical-align: top;\n",
              "    }\n",
              "\n",
              "    .dataframe thead th {\n",
              "        text-align: right;\n",
              "    }\n",
              "</style>\n",
              "<table border=\"1\" class=\"dataframe\">\n",
              "  <thead>\n",
              "    <tr style=\"text-align: right;\">\n",
              "      <th></th>\n",
              "      <th>NAME</th>\n",
              "      <th>AGE</th>\n",
              "      <th>GENDER</th>\n",
              "    </tr>\n",
              "  </thead>\n",
              "  <tbody>\n",
              "    <tr>\n",
              "      <th>0</th>\n",
              "      <td>Jake</td>\n",
              "      <td>24</td>\n",
              "      <td>M</td>\n",
              "    </tr>\n",
              "    <tr>\n",
              "      <th>1</th>\n",
              "      <td>Jennifer</td>\n",
              "      <td>21</td>\n",
              "      <td>F</td>\n",
              "    </tr>\n",
              "    <tr>\n",
              "      <th>2</th>\n",
              "      <td>Paul</td>\n",
              "      <td>25</td>\n",
              "      <td>M</td>\n",
              "    </tr>\n",
              "  </tbody>\n",
              "</table>\n",
              "</div>\n",
              "      <button class=\"colab-df-convert\" onclick=\"convertToInteractive('df-5a80065a-0b99-491b-a81c-a38c0e332b5a')\"\n",
              "              title=\"Convert this dataframe to an interactive table.\"\n",
              "              style=\"display:none;\">\n",
              "        \n",
              "  <svg xmlns=\"http://www.w3.org/2000/svg\" height=\"24px\"viewBox=\"0 0 24 24\"\n",
              "       width=\"24px\">\n",
              "    <path d=\"M0 0h24v24H0V0z\" fill=\"none\"/>\n",
              "    <path d=\"M18.56 5.44l.94 2.06.94-2.06 2.06-.94-2.06-.94-.94-2.06-.94 2.06-2.06.94zm-11 1L8.5 8.5l.94-2.06 2.06-.94-2.06-.94L8.5 2.5l-.94 2.06-2.06.94zm10 10l.94 2.06.94-2.06 2.06-.94-2.06-.94-.94-2.06-.94 2.06-2.06.94z\"/><path d=\"M17.41 7.96l-1.37-1.37c-.4-.4-.92-.59-1.43-.59-.52 0-1.04.2-1.43.59L10.3 9.45l-7.72 7.72c-.78.78-.78 2.05 0 2.83L4 21.41c.39.39.9.59 1.41.59.51 0 1.02-.2 1.41-.59l7.78-7.78 2.81-2.81c.8-.78.8-2.07 0-2.86zM5.41 20L4 18.59l7.72-7.72 1.47 1.35L5.41 20z\"/>\n",
              "  </svg>\n",
              "      </button>\n",
              "      \n",
              "  <style>\n",
              "    .colab-df-container {\n",
              "      display:flex;\n",
              "      flex-wrap:wrap;\n",
              "      gap: 12px;\n",
              "    }\n",
              "\n",
              "    .colab-df-convert {\n",
              "      background-color: #E8F0FE;\n",
              "      border: none;\n",
              "      border-radius: 50%;\n",
              "      cursor: pointer;\n",
              "      display: none;\n",
              "      fill: #1967D2;\n",
              "      height: 32px;\n",
              "      padding: 0 0 0 0;\n",
              "      width: 32px;\n",
              "    }\n",
              "\n",
              "    .colab-df-convert:hover {\n",
              "      background-color: #E2EBFA;\n",
              "      box-shadow: 0px 1px 2px rgba(60, 64, 67, 0.3), 0px 1px 3px 1px rgba(60, 64, 67, 0.15);\n",
              "      fill: #174EA6;\n",
              "    }\n",
              "\n",
              "    [theme=dark] .colab-df-convert {\n",
              "      background-color: #3B4455;\n",
              "      fill: #D2E3FC;\n",
              "    }\n",
              "\n",
              "    [theme=dark] .colab-df-convert:hover {\n",
              "      background-color: #434B5C;\n",
              "      box-shadow: 0px 1px 3px 1px rgba(0, 0, 0, 0.15);\n",
              "      filter: drop-shadow(0px 1px 2px rgba(0, 0, 0, 0.3));\n",
              "      fill: #FFFFFF;\n",
              "    }\n",
              "  </style>\n",
              "\n",
              "      <script>\n",
              "        const buttonEl =\n",
              "          document.querySelector('#df-5a80065a-0b99-491b-a81c-a38c0e332b5a button.colab-df-convert');\n",
              "        buttonEl.style.display =\n",
              "          google.colab.kernel.accessAllowed ? 'block' : 'none';\n",
              "\n",
              "        async function convertToInteractive(key) {\n",
              "          const element = document.querySelector('#df-5a80065a-0b99-491b-a81c-a38c0e332b5a');\n",
              "          const dataTable =\n",
              "            await google.colab.kernel.invokeFunction('convertToInteractive',\n",
              "                                                     [key], {});\n",
              "          if (!dataTable) return;\n",
              "\n",
              "          const docLinkHtml = 'Like what you see? Visit the ' +\n",
              "            '<a target=\"_blank\" href=https://colab.research.google.com/notebooks/data_table.ipynb>data table notebook</a>'\n",
              "            + ' to learn more about interactive tables.';\n",
              "          element.innerHTML = '';\n",
              "          dataTable['output_type'] = 'display_data';\n",
              "          await google.colab.output.renderOutput(dataTable, element);\n",
              "          const docLink = document.createElement('div');\n",
              "          docLink.innerHTML = docLinkHtml;\n",
              "          element.appendChild(docLink);\n",
              "        }\n",
              "      </script>\n",
              "    </div>\n",
              "  </div>\n",
              "  "
            ],
            "text/plain": [
              "       NAME  AGE GENDER\n",
              "0      Jake   24      M\n",
              "1  Jennifer   21      F\n",
              "2      Paul   25      M"
            ]
          },
          "metadata": {},
          "execution_count": 193
        }
      ]
    },
    {
      "cell_type": "code",
      "source": [
        "df.tail(2)\t \t\t# Return the bottom n rows."
      ],
      "metadata": {
        "colab": {
          "base_uri": "https://localhost:8080/",
          "height": 112
        },
        "id": "S5D3thEpH_Sc",
        "outputId": "deb77772-c3b8-4e95-834b-401970fb72e0"
      },
      "execution_count": 194,
      "outputs": [
        {
          "output_type": "execute_result",
          "data": {
            "text/html": [
              "\n",
              "  <div id=\"df-12860640-0959-4df1-adfd-ed7f0928280c\">\n",
              "    <div class=\"colab-df-container\">\n",
              "      <div>\n",
              "<style scoped>\n",
              "    .dataframe tbody tr th:only-of-type {\n",
              "        vertical-align: middle;\n",
              "    }\n",
              "\n",
              "    .dataframe tbody tr th {\n",
              "        vertical-align: top;\n",
              "    }\n",
              "\n",
              "    .dataframe thead th {\n",
              "        text-align: right;\n",
              "    }\n",
              "</style>\n",
              "<table border=\"1\" class=\"dataframe\">\n",
              "  <thead>\n",
              "    <tr style=\"text-align: right;\">\n",
              "      <th></th>\n",
              "      <th>NAME</th>\n",
              "      <th>AGE</th>\n",
              "      <th>GENDER</th>\n",
              "    </tr>\n",
              "  </thead>\n",
              "  <tbody>\n",
              "    <tr>\n",
              "      <th>2</th>\n",
              "      <td>Paul</td>\n",
              "      <td>25</td>\n",
              "      <td>M</td>\n",
              "    </tr>\n",
              "    <tr>\n",
              "      <th>3</th>\n",
              "      <td>Andrew</td>\n",
              "      <td>19</td>\n",
              "      <td>M</td>\n",
              "    </tr>\n",
              "  </tbody>\n",
              "</table>\n",
              "</div>\n",
              "      <button class=\"colab-df-convert\" onclick=\"convertToInteractive('df-12860640-0959-4df1-adfd-ed7f0928280c')\"\n",
              "              title=\"Convert this dataframe to an interactive table.\"\n",
              "              style=\"display:none;\">\n",
              "        \n",
              "  <svg xmlns=\"http://www.w3.org/2000/svg\" height=\"24px\"viewBox=\"0 0 24 24\"\n",
              "       width=\"24px\">\n",
              "    <path d=\"M0 0h24v24H0V0z\" fill=\"none\"/>\n",
              "    <path d=\"M18.56 5.44l.94 2.06.94-2.06 2.06-.94-2.06-.94-.94-2.06-.94 2.06-2.06.94zm-11 1L8.5 8.5l.94-2.06 2.06-.94-2.06-.94L8.5 2.5l-.94 2.06-2.06.94zm10 10l.94 2.06.94-2.06 2.06-.94-2.06-.94-.94-2.06-.94 2.06-2.06.94z\"/><path d=\"M17.41 7.96l-1.37-1.37c-.4-.4-.92-.59-1.43-.59-.52 0-1.04.2-1.43.59L10.3 9.45l-7.72 7.72c-.78.78-.78 2.05 0 2.83L4 21.41c.39.39.9.59 1.41.59.51 0 1.02-.2 1.41-.59l7.78-7.78 2.81-2.81c.8-.78.8-2.07 0-2.86zM5.41 20L4 18.59l7.72-7.72 1.47 1.35L5.41 20z\"/>\n",
              "  </svg>\n",
              "      </button>\n",
              "      \n",
              "  <style>\n",
              "    .colab-df-container {\n",
              "      display:flex;\n",
              "      flex-wrap:wrap;\n",
              "      gap: 12px;\n",
              "    }\n",
              "\n",
              "    .colab-df-convert {\n",
              "      background-color: #E8F0FE;\n",
              "      border: none;\n",
              "      border-radius: 50%;\n",
              "      cursor: pointer;\n",
              "      display: none;\n",
              "      fill: #1967D2;\n",
              "      height: 32px;\n",
              "      padding: 0 0 0 0;\n",
              "      width: 32px;\n",
              "    }\n",
              "\n",
              "    .colab-df-convert:hover {\n",
              "      background-color: #E2EBFA;\n",
              "      box-shadow: 0px 1px 2px rgba(60, 64, 67, 0.3), 0px 1px 3px 1px rgba(60, 64, 67, 0.15);\n",
              "      fill: #174EA6;\n",
              "    }\n",
              "\n",
              "    [theme=dark] .colab-df-convert {\n",
              "      background-color: #3B4455;\n",
              "      fill: #D2E3FC;\n",
              "    }\n",
              "\n",
              "    [theme=dark] .colab-df-convert:hover {\n",
              "      background-color: #434B5C;\n",
              "      box-shadow: 0px 1px 3px 1px rgba(0, 0, 0, 0.15);\n",
              "      filter: drop-shadow(0px 1px 2px rgba(0, 0, 0, 0.3));\n",
              "      fill: #FFFFFF;\n",
              "    }\n",
              "  </style>\n",
              "\n",
              "      <script>\n",
              "        const buttonEl =\n",
              "          document.querySelector('#df-12860640-0959-4df1-adfd-ed7f0928280c button.colab-df-convert');\n",
              "        buttonEl.style.display =\n",
              "          google.colab.kernel.accessAllowed ? 'block' : 'none';\n",
              "\n",
              "        async function convertToInteractive(key) {\n",
              "          const element = document.querySelector('#df-12860640-0959-4df1-adfd-ed7f0928280c');\n",
              "          const dataTable =\n",
              "            await google.colab.kernel.invokeFunction('convertToInteractive',\n",
              "                                                     [key], {});\n",
              "          if (!dataTable) return;\n",
              "\n",
              "          const docLinkHtml = 'Like what you see? Visit the ' +\n",
              "            '<a target=\"_blank\" href=https://colab.research.google.com/notebooks/data_table.ipynb>data table notebook</a>'\n",
              "            + ' to learn more about interactive tables.';\n",
              "          element.innerHTML = '';\n",
              "          dataTable['output_type'] = 'display_data';\n",
              "          await google.colab.output.renderOutput(dataTable, element);\n",
              "          const docLink = document.createElement('div');\n",
              "          docLink.innerHTML = docLinkHtml;\n",
              "          element.appendChild(docLink);\n",
              "        }\n",
              "      </script>\n",
              "    </div>\n",
              "  </div>\n",
              "  "
            ],
            "text/plain": [
              "     NAME  AGE GENDER\n",
              "2    Paul   25      M\n",
              "3  Andrew   19      M"
            ]
          },
          "metadata": {},
          "execution_count": 194
        }
      ]
    },
    {
      "cell_type": "code",
      "source": [
        "df.columns\t\t\t# Show the DataFrame’s column names."
      ],
      "metadata": {
        "colab": {
          "base_uri": "https://localhost:8080/"
        },
        "id": "wewQrHqQH_P1",
        "outputId": "a41e67a0-9e43-4f90-a6e0-dfafcd0971dc"
      },
      "execution_count": 195,
      "outputs": [
        {
          "output_type": "execute_result",
          "data": {
            "text/plain": [
              "Index(['NAME', 'AGE', 'GENDER'], dtype='object')"
            ]
          },
          "metadata": {},
          "execution_count": 195
        }
      ]
    },
    {
      "cell_type": "code",
      "source": [
        "df.columns = ['A', 'B' , 'C']\t\t# Replace the DataFrame’s column names.\n",
        "df"
      ],
      "metadata": {
        "colab": {
          "base_uri": "https://localhost:8080/",
          "height": 175
        },
        "id": "4KIGdO2gH_M-",
        "outputId": "e6c3c51e-2887-4750-e151-dd81fdc4b9bb"
      },
      "execution_count": 196,
      "outputs": [
        {
          "output_type": "execute_result",
          "data": {
            "text/html": [
              "\n",
              "  <div id=\"df-5fcf7a52-0890-46d0-96cc-8f4adb812d4b\">\n",
              "    <div class=\"colab-df-container\">\n",
              "      <div>\n",
              "<style scoped>\n",
              "    .dataframe tbody tr th:only-of-type {\n",
              "        vertical-align: middle;\n",
              "    }\n",
              "\n",
              "    .dataframe tbody tr th {\n",
              "        vertical-align: top;\n",
              "    }\n",
              "\n",
              "    .dataframe thead th {\n",
              "        text-align: right;\n",
              "    }\n",
              "</style>\n",
              "<table border=\"1\" class=\"dataframe\">\n",
              "  <thead>\n",
              "    <tr style=\"text-align: right;\">\n",
              "      <th></th>\n",
              "      <th>A</th>\n",
              "      <th>B</th>\n",
              "      <th>C</th>\n",
              "    </tr>\n",
              "  </thead>\n",
              "  <tbody>\n",
              "    <tr>\n",
              "      <th>0</th>\n",
              "      <td>Jake</td>\n",
              "      <td>24</td>\n",
              "      <td>M</td>\n",
              "    </tr>\n",
              "    <tr>\n",
              "      <th>1</th>\n",
              "      <td>Jennifer</td>\n",
              "      <td>21</td>\n",
              "      <td>F</td>\n",
              "    </tr>\n",
              "    <tr>\n",
              "      <th>2</th>\n",
              "      <td>Paul</td>\n",
              "      <td>25</td>\n",
              "      <td>M</td>\n",
              "    </tr>\n",
              "    <tr>\n",
              "      <th>3</th>\n",
              "      <td>Andrew</td>\n",
              "      <td>19</td>\n",
              "      <td>M</td>\n",
              "    </tr>\n",
              "  </tbody>\n",
              "</table>\n",
              "</div>\n",
              "      <button class=\"colab-df-convert\" onclick=\"convertToInteractive('df-5fcf7a52-0890-46d0-96cc-8f4adb812d4b')\"\n",
              "              title=\"Convert this dataframe to an interactive table.\"\n",
              "              style=\"display:none;\">\n",
              "        \n",
              "  <svg xmlns=\"http://www.w3.org/2000/svg\" height=\"24px\"viewBox=\"0 0 24 24\"\n",
              "       width=\"24px\">\n",
              "    <path d=\"M0 0h24v24H0V0z\" fill=\"none\"/>\n",
              "    <path d=\"M18.56 5.44l.94 2.06.94-2.06 2.06-.94-2.06-.94-.94-2.06-.94 2.06-2.06.94zm-11 1L8.5 8.5l.94-2.06 2.06-.94-2.06-.94L8.5 2.5l-.94 2.06-2.06.94zm10 10l.94 2.06.94-2.06 2.06-.94-2.06-.94-.94-2.06-.94 2.06-2.06.94z\"/><path d=\"M17.41 7.96l-1.37-1.37c-.4-.4-.92-.59-1.43-.59-.52 0-1.04.2-1.43.59L10.3 9.45l-7.72 7.72c-.78.78-.78 2.05 0 2.83L4 21.41c.39.39.9.59 1.41.59.51 0 1.02-.2 1.41-.59l7.78-7.78 2.81-2.81c.8-.78.8-2.07 0-2.86zM5.41 20L4 18.59l7.72-7.72 1.47 1.35L5.41 20z\"/>\n",
              "  </svg>\n",
              "      </button>\n",
              "      \n",
              "  <style>\n",
              "    .colab-df-container {\n",
              "      display:flex;\n",
              "      flex-wrap:wrap;\n",
              "      gap: 12px;\n",
              "    }\n",
              "\n",
              "    .colab-df-convert {\n",
              "      background-color: #E8F0FE;\n",
              "      border: none;\n",
              "      border-radius: 50%;\n",
              "      cursor: pointer;\n",
              "      display: none;\n",
              "      fill: #1967D2;\n",
              "      height: 32px;\n",
              "      padding: 0 0 0 0;\n",
              "      width: 32px;\n",
              "    }\n",
              "\n",
              "    .colab-df-convert:hover {\n",
              "      background-color: #E2EBFA;\n",
              "      box-shadow: 0px 1px 2px rgba(60, 64, 67, 0.3), 0px 1px 3px 1px rgba(60, 64, 67, 0.15);\n",
              "      fill: #174EA6;\n",
              "    }\n",
              "\n",
              "    [theme=dark] .colab-df-convert {\n",
              "      background-color: #3B4455;\n",
              "      fill: #D2E3FC;\n",
              "    }\n",
              "\n",
              "    [theme=dark] .colab-df-convert:hover {\n",
              "      background-color: #434B5C;\n",
              "      box-shadow: 0px 1px 3px 1px rgba(0, 0, 0, 0.15);\n",
              "      filter: drop-shadow(0px 1px 2px rgba(0, 0, 0, 0.3));\n",
              "      fill: #FFFFFF;\n",
              "    }\n",
              "  </style>\n",
              "\n",
              "      <script>\n",
              "        const buttonEl =\n",
              "          document.querySelector('#df-5fcf7a52-0890-46d0-96cc-8f4adb812d4b button.colab-df-convert');\n",
              "        buttonEl.style.display =\n",
              "          google.colab.kernel.accessAllowed ? 'block' : 'none';\n",
              "\n",
              "        async function convertToInteractive(key) {\n",
              "          const element = document.querySelector('#df-5fcf7a52-0890-46d0-96cc-8f4adb812d4b');\n",
              "          const dataTable =\n",
              "            await google.colab.kernel.invokeFunction('convertToInteractive',\n",
              "                                                     [key], {});\n",
              "          if (!dataTable) return;\n",
              "\n",
              "          const docLinkHtml = 'Like what you see? Visit the ' +\n",
              "            '<a target=\"_blank\" href=https://colab.research.google.com/notebooks/data_table.ipynb>data table notebook</a>'\n",
              "            + ' to learn more about interactive tables.';\n",
              "          element.innerHTML = '';\n",
              "          dataTable['output_type'] = 'display_data';\n",
              "          await google.colab.output.renderOutput(dataTable, element);\n",
              "          const docLink = document.createElement('div');\n",
              "          docLink.innerHTML = docLinkHtml;\n",
              "          element.appendChild(docLink);\n",
              "        }\n",
              "      </script>\n",
              "    </div>\n",
              "  </div>\n",
              "  "
            ],
            "text/plain": [
              "          A   B  C\n",
              "0      Jake  24  M\n",
              "1  Jennifer  21  F\n",
              "2      Paul  25  M\n",
              "3    Andrew  19  M"
            ]
          },
          "metadata": {},
          "execution_count": 196
        }
      ]
    },
    {
      "cell_type": "code",
      "source": [
        "df.index\t\t\t# Show the DataFrame’s indices."
      ],
      "metadata": {
        "colab": {
          "base_uri": "https://localhost:8080/"
        },
        "id": "PCmgDtpkH_Ji",
        "outputId": "91142921-bda2-4fcd-89b4-01e90da6d7f3"
      },
      "execution_count": 197,
      "outputs": [
        {
          "output_type": "execute_result",
          "data": {
            "text/plain": [
              "RangeIndex(start=0, stop=4, step=1)"
            ]
          },
          "metadata": {},
          "execution_count": 197
        }
      ]
    },
    {
      "cell_type": "code",
      "source": [
        "df.A\t\t\t\t# Get the column 'A' as a Series."
      ],
      "metadata": {
        "colab": {
          "base_uri": "https://localhost:8080/"
        },
        "id": "HOTR7EB9H_Cq",
        "outputId": "1d22a298-3fc6-42a0-9334-e25a297637ec"
      },
      "execution_count": 198,
      "outputs": [
        {
          "output_type": "execute_result",
          "data": {
            "text/plain": [
              "0        Jake\n",
              "1    Jennifer\n",
              "2        Paul\n",
              "3      Andrew\n",
              "Name: A, dtype: object"
            ]
          },
          "metadata": {},
          "execution_count": 198
        }
      ]
    },
    {
      "cell_type": "code",
      "source": [
        "df.B\t\t\t\t# Get the column 'B' as a Series."
      ],
      "metadata": {
        "colab": {
          "base_uri": "https://localhost:8080/"
        },
        "id": "W0ZTyBqKH-5e",
        "outputId": "aec4fe44-87d5-4f59-8ff9-b9891727e417"
      },
      "execution_count": 199,
      "outputs": [
        {
          "output_type": "execute_result",
          "data": {
            "text/plain": [
              "0    24\n",
              "1    21\n",
              "2    25\n",
              "3    19\n",
              "Name: B, dtype: int64"
            ]
          },
          "metadata": {},
          "execution_count": 199
        }
      ]
    },
    {
      "cell_type": "code",
      "source": [
        "df['A']\t\t\t# Get the column 'A' as a Series."
      ],
      "metadata": {
        "colab": {
          "base_uri": "https://localhost:8080/"
        },
        "id": "4EwFvzZZJYp7",
        "outputId": "ba07557f-98a4-4381-aa37-7b2c8a6efd0b"
      },
      "execution_count": 200,
      "outputs": [
        {
          "output_type": "execute_result",
          "data": {
            "text/plain": [
              "0        Jake\n",
              "1    Jennifer\n",
              "2        Paul\n",
              "3      Andrew\n",
              "Name: A, dtype: object"
            ]
          },
          "metadata": {},
          "execution_count": 200
        }
      ]
    },
    {
      "cell_type": "code",
      "source": [
        "df[['A','B']] \t\t\t# Get the columns 'A' and 'B'. Display as a DataFrame."
      ],
      "metadata": {
        "colab": {
          "base_uri": "https://localhost:8080/",
          "height": 175
        },
        "id": "r_hfDIk9JYnv",
        "outputId": "f9a3384e-aced-4e01-cde7-397554f3af8d"
      },
      "execution_count": 201,
      "outputs": [
        {
          "output_type": "execute_result",
          "data": {
            "text/html": [
              "\n",
              "  <div id=\"df-a0800667-6367-44b5-acad-a9ade619bf98\">\n",
              "    <div class=\"colab-df-container\">\n",
              "      <div>\n",
              "<style scoped>\n",
              "    .dataframe tbody tr th:only-of-type {\n",
              "        vertical-align: middle;\n",
              "    }\n",
              "\n",
              "    .dataframe tbody tr th {\n",
              "        vertical-align: top;\n",
              "    }\n",
              "\n",
              "    .dataframe thead th {\n",
              "        text-align: right;\n",
              "    }\n",
              "</style>\n",
              "<table border=\"1\" class=\"dataframe\">\n",
              "  <thead>\n",
              "    <tr style=\"text-align: right;\">\n",
              "      <th></th>\n",
              "      <th>A</th>\n",
              "      <th>B</th>\n",
              "    </tr>\n",
              "  </thead>\n",
              "  <tbody>\n",
              "    <tr>\n",
              "      <th>0</th>\n",
              "      <td>Jake</td>\n",
              "      <td>24</td>\n",
              "    </tr>\n",
              "    <tr>\n",
              "      <th>1</th>\n",
              "      <td>Jennifer</td>\n",
              "      <td>21</td>\n",
              "    </tr>\n",
              "    <tr>\n",
              "      <th>2</th>\n",
              "      <td>Paul</td>\n",
              "      <td>25</td>\n",
              "    </tr>\n",
              "    <tr>\n",
              "      <th>3</th>\n",
              "      <td>Andrew</td>\n",
              "      <td>19</td>\n",
              "    </tr>\n",
              "  </tbody>\n",
              "</table>\n",
              "</div>\n",
              "      <button class=\"colab-df-convert\" onclick=\"convertToInteractive('df-a0800667-6367-44b5-acad-a9ade619bf98')\"\n",
              "              title=\"Convert this dataframe to an interactive table.\"\n",
              "              style=\"display:none;\">\n",
              "        \n",
              "  <svg xmlns=\"http://www.w3.org/2000/svg\" height=\"24px\"viewBox=\"0 0 24 24\"\n",
              "       width=\"24px\">\n",
              "    <path d=\"M0 0h24v24H0V0z\" fill=\"none\"/>\n",
              "    <path d=\"M18.56 5.44l.94 2.06.94-2.06 2.06-.94-2.06-.94-.94-2.06-.94 2.06-2.06.94zm-11 1L8.5 8.5l.94-2.06 2.06-.94-2.06-.94L8.5 2.5l-.94 2.06-2.06.94zm10 10l.94 2.06.94-2.06 2.06-.94-2.06-.94-.94-2.06-.94 2.06-2.06.94z\"/><path d=\"M17.41 7.96l-1.37-1.37c-.4-.4-.92-.59-1.43-.59-.52 0-1.04.2-1.43.59L10.3 9.45l-7.72 7.72c-.78.78-.78 2.05 0 2.83L4 21.41c.39.39.9.59 1.41.59.51 0 1.02-.2 1.41-.59l7.78-7.78 2.81-2.81c.8-.78.8-2.07 0-2.86zM5.41 20L4 18.59l7.72-7.72 1.47 1.35L5.41 20z\"/>\n",
              "  </svg>\n",
              "      </button>\n",
              "      \n",
              "  <style>\n",
              "    .colab-df-container {\n",
              "      display:flex;\n",
              "      flex-wrap:wrap;\n",
              "      gap: 12px;\n",
              "    }\n",
              "\n",
              "    .colab-df-convert {\n",
              "      background-color: #E8F0FE;\n",
              "      border: none;\n",
              "      border-radius: 50%;\n",
              "      cursor: pointer;\n",
              "      display: none;\n",
              "      fill: #1967D2;\n",
              "      height: 32px;\n",
              "      padding: 0 0 0 0;\n",
              "      width: 32px;\n",
              "    }\n",
              "\n",
              "    .colab-df-convert:hover {\n",
              "      background-color: #E2EBFA;\n",
              "      box-shadow: 0px 1px 2px rgba(60, 64, 67, 0.3), 0px 1px 3px 1px rgba(60, 64, 67, 0.15);\n",
              "      fill: #174EA6;\n",
              "    }\n",
              "\n",
              "    [theme=dark] .colab-df-convert {\n",
              "      background-color: #3B4455;\n",
              "      fill: #D2E3FC;\n",
              "    }\n",
              "\n",
              "    [theme=dark] .colab-df-convert:hover {\n",
              "      background-color: #434B5C;\n",
              "      box-shadow: 0px 1px 3px 1px rgba(0, 0, 0, 0.15);\n",
              "      filter: drop-shadow(0px 1px 2px rgba(0, 0, 0, 0.3));\n",
              "      fill: #FFFFFF;\n",
              "    }\n",
              "  </style>\n",
              "\n",
              "      <script>\n",
              "        const buttonEl =\n",
              "          document.querySelector('#df-a0800667-6367-44b5-acad-a9ade619bf98 button.colab-df-convert');\n",
              "        buttonEl.style.display =\n",
              "          google.colab.kernel.accessAllowed ? 'block' : 'none';\n",
              "\n",
              "        async function convertToInteractive(key) {\n",
              "          const element = document.querySelector('#df-a0800667-6367-44b5-acad-a9ade619bf98');\n",
              "          const dataTable =\n",
              "            await google.colab.kernel.invokeFunction('convertToInteractive',\n",
              "                                                     [key], {});\n",
              "          if (!dataTable) return;\n",
              "\n",
              "          const docLinkHtml = 'Like what you see? Visit the ' +\n",
              "            '<a target=\"_blank\" href=https://colab.research.google.com/notebooks/data_table.ipynb>data table notebook</a>'\n",
              "            + ' to learn more about interactive tables.';\n",
              "          element.innerHTML = '';\n",
              "          dataTable['output_type'] = 'display_data';\n",
              "          await google.colab.output.renderOutput(dataTable, element);\n",
              "          const docLink = document.createElement('div');\n",
              "          docLink.innerHTML = docLinkHtml;\n",
              "          element.appendChild(docLink);\n",
              "        }\n",
              "      </script>\n",
              "    </div>\n",
              "  </div>\n",
              "  "
            ],
            "text/plain": [
              "          A   B\n",
              "0      Jake  24\n",
              "1  Jennifer  21\n",
              "2      Paul  25\n",
              "3    Andrew  19"
            ]
          },
          "metadata": {},
          "execution_count": 201
        }
      ]
    },
    {
      "cell_type": "code",
      "source": [
        "df.loc[:, ['A','B']]\t\t\t# Get the columns 'A' and 'B'. Display as a DataFrame."
      ],
      "metadata": {
        "colab": {
          "base_uri": "https://localhost:8080/",
          "height": 175
        },
        "id": "Q1uKOe7gJYlC",
        "outputId": "f44fd7e5-4610-4d07-c329-9bb1842aff38"
      },
      "execution_count": 202,
      "outputs": [
        {
          "output_type": "execute_result",
          "data": {
            "text/html": [
              "\n",
              "  <div id=\"df-e13bfc3c-b9c5-495e-92b7-b7b4c610b3b8\">\n",
              "    <div class=\"colab-df-container\">\n",
              "      <div>\n",
              "<style scoped>\n",
              "    .dataframe tbody tr th:only-of-type {\n",
              "        vertical-align: middle;\n",
              "    }\n",
              "\n",
              "    .dataframe tbody tr th {\n",
              "        vertical-align: top;\n",
              "    }\n",
              "\n",
              "    .dataframe thead th {\n",
              "        text-align: right;\n",
              "    }\n",
              "</style>\n",
              "<table border=\"1\" class=\"dataframe\">\n",
              "  <thead>\n",
              "    <tr style=\"text-align: right;\">\n",
              "      <th></th>\n",
              "      <th>A</th>\n",
              "      <th>B</th>\n",
              "    </tr>\n",
              "  </thead>\n",
              "  <tbody>\n",
              "    <tr>\n",
              "      <th>0</th>\n",
              "      <td>Jake</td>\n",
              "      <td>24</td>\n",
              "    </tr>\n",
              "    <tr>\n",
              "      <th>1</th>\n",
              "      <td>Jennifer</td>\n",
              "      <td>21</td>\n",
              "    </tr>\n",
              "    <tr>\n",
              "      <th>2</th>\n",
              "      <td>Paul</td>\n",
              "      <td>25</td>\n",
              "    </tr>\n",
              "    <tr>\n",
              "      <th>3</th>\n",
              "      <td>Andrew</td>\n",
              "      <td>19</td>\n",
              "    </tr>\n",
              "  </tbody>\n",
              "</table>\n",
              "</div>\n",
              "      <button class=\"colab-df-convert\" onclick=\"convertToInteractive('df-e13bfc3c-b9c5-495e-92b7-b7b4c610b3b8')\"\n",
              "              title=\"Convert this dataframe to an interactive table.\"\n",
              "              style=\"display:none;\">\n",
              "        \n",
              "  <svg xmlns=\"http://www.w3.org/2000/svg\" height=\"24px\"viewBox=\"0 0 24 24\"\n",
              "       width=\"24px\">\n",
              "    <path d=\"M0 0h24v24H0V0z\" fill=\"none\"/>\n",
              "    <path d=\"M18.56 5.44l.94 2.06.94-2.06 2.06-.94-2.06-.94-.94-2.06-.94 2.06-2.06.94zm-11 1L8.5 8.5l.94-2.06 2.06-.94-2.06-.94L8.5 2.5l-.94 2.06-2.06.94zm10 10l.94 2.06.94-2.06 2.06-.94-2.06-.94-.94-2.06-.94 2.06-2.06.94z\"/><path d=\"M17.41 7.96l-1.37-1.37c-.4-.4-.92-.59-1.43-.59-.52 0-1.04.2-1.43.59L10.3 9.45l-7.72 7.72c-.78.78-.78 2.05 0 2.83L4 21.41c.39.39.9.59 1.41.59.51 0 1.02-.2 1.41-.59l7.78-7.78 2.81-2.81c.8-.78.8-2.07 0-2.86zM5.41 20L4 18.59l7.72-7.72 1.47 1.35L5.41 20z\"/>\n",
              "  </svg>\n",
              "      </button>\n",
              "      \n",
              "  <style>\n",
              "    .colab-df-container {\n",
              "      display:flex;\n",
              "      flex-wrap:wrap;\n",
              "      gap: 12px;\n",
              "    }\n",
              "\n",
              "    .colab-df-convert {\n",
              "      background-color: #E8F0FE;\n",
              "      border: none;\n",
              "      border-radius: 50%;\n",
              "      cursor: pointer;\n",
              "      display: none;\n",
              "      fill: #1967D2;\n",
              "      height: 32px;\n",
              "      padding: 0 0 0 0;\n",
              "      width: 32px;\n",
              "    }\n",
              "\n",
              "    .colab-df-convert:hover {\n",
              "      background-color: #E2EBFA;\n",
              "      box-shadow: 0px 1px 2px rgba(60, 64, 67, 0.3), 0px 1px 3px 1px rgba(60, 64, 67, 0.15);\n",
              "      fill: #174EA6;\n",
              "    }\n",
              "\n",
              "    [theme=dark] .colab-df-convert {\n",
              "      background-color: #3B4455;\n",
              "      fill: #D2E3FC;\n",
              "    }\n",
              "\n",
              "    [theme=dark] .colab-df-convert:hover {\n",
              "      background-color: #434B5C;\n",
              "      box-shadow: 0px 1px 3px 1px rgba(0, 0, 0, 0.15);\n",
              "      filter: drop-shadow(0px 1px 2px rgba(0, 0, 0, 0.3));\n",
              "      fill: #FFFFFF;\n",
              "    }\n",
              "  </style>\n",
              "\n",
              "      <script>\n",
              "        const buttonEl =\n",
              "          document.querySelector('#df-e13bfc3c-b9c5-495e-92b7-b7b4c610b3b8 button.colab-df-convert');\n",
              "        buttonEl.style.display =\n",
              "          google.colab.kernel.accessAllowed ? 'block' : 'none';\n",
              "\n",
              "        async function convertToInteractive(key) {\n",
              "          const element = document.querySelector('#df-e13bfc3c-b9c5-495e-92b7-b7b4c610b3b8');\n",
              "          const dataTable =\n",
              "            await google.colab.kernel.invokeFunction('convertToInteractive',\n",
              "                                                     [key], {});\n",
              "          if (!dataTable) return;\n",
              "\n",
              "          const docLinkHtml = 'Like what you see? Visit the ' +\n",
              "            '<a target=\"_blank\" href=https://colab.research.google.com/notebooks/data_table.ipynb>data table notebook</a>'\n",
              "            + ' to learn more about interactive tables.';\n",
              "          element.innerHTML = '';\n",
              "          dataTable['output_type'] = 'display_data';\n",
              "          await google.colab.output.renderOutput(dataTable, element);\n",
              "          const docLink = document.createElement('div');\n",
              "          docLink.innerHTML = docLinkHtml;\n",
              "          element.appendChild(docLink);\n",
              "        }\n",
              "      </script>\n",
              "    </div>\n",
              "  </div>\n",
              "  "
            ],
            "text/plain": [
              "          A   B\n",
              "0      Jake  24\n",
              "1  Jennifer  21\n",
              "2      Paul  25\n",
              "3    Andrew  19"
            ]
          },
          "metadata": {},
          "execution_count": 202
        }
      ]
    },
    {
      "cell_type": "code",
      "source": [
        "#df.loc[:, (header == 'A' ) | (header == 'B' )]\t# Get the columns 'A' and 'B'. Display as a DataFrame."
      ],
      "metadata": {
        "id": "ELzPzo2TJYjZ"
      },
      "execution_count": 203,
      "outputs": []
    },
    {
      "cell_type": "code",
      "source": [
        "df.iloc[:, [0,1]]\t\t\t# Get the columns 0 and 1. Display as a DataFrame."
      ],
      "metadata": {
        "colab": {
          "base_uri": "https://localhost:8080/",
          "height": 175
        },
        "id": "-0yc21LvJYf5",
        "outputId": "fd37ca8f-c8bf-421a-9223-f03615efefd2"
      },
      "execution_count": 204,
      "outputs": [
        {
          "output_type": "execute_result",
          "data": {
            "text/html": [
              "\n",
              "  <div id=\"df-9f144a68-a3e1-4bca-b335-d0c3345ddfca\">\n",
              "    <div class=\"colab-df-container\">\n",
              "      <div>\n",
              "<style scoped>\n",
              "    .dataframe tbody tr th:only-of-type {\n",
              "        vertical-align: middle;\n",
              "    }\n",
              "\n",
              "    .dataframe tbody tr th {\n",
              "        vertical-align: top;\n",
              "    }\n",
              "\n",
              "    .dataframe thead th {\n",
              "        text-align: right;\n",
              "    }\n",
              "</style>\n",
              "<table border=\"1\" class=\"dataframe\">\n",
              "  <thead>\n",
              "    <tr style=\"text-align: right;\">\n",
              "      <th></th>\n",
              "      <th>A</th>\n",
              "      <th>B</th>\n",
              "    </tr>\n",
              "  </thead>\n",
              "  <tbody>\n",
              "    <tr>\n",
              "      <th>0</th>\n",
              "      <td>Jake</td>\n",
              "      <td>24</td>\n",
              "    </tr>\n",
              "    <tr>\n",
              "      <th>1</th>\n",
              "      <td>Jennifer</td>\n",
              "      <td>21</td>\n",
              "    </tr>\n",
              "    <tr>\n",
              "      <th>2</th>\n",
              "      <td>Paul</td>\n",
              "      <td>25</td>\n",
              "    </tr>\n",
              "    <tr>\n",
              "      <th>3</th>\n",
              "      <td>Andrew</td>\n",
              "      <td>19</td>\n",
              "    </tr>\n",
              "  </tbody>\n",
              "</table>\n",
              "</div>\n",
              "      <button class=\"colab-df-convert\" onclick=\"convertToInteractive('df-9f144a68-a3e1-4bca-b335-d0c3345ddfca')\"\n",
              "              title=\"Convert this dataframe to an interactive table.\"\n",
              "              style=\"display:none;\">\n",
              "        \n",
              "  <svg xmlns=\"http://www.w3.org/2000/svg\" height=\"24px\"viewBox=\"0 0 24 24\"\n",
              "       width=\"24px\">\n",
              "    <path d=\"M0 0h24v24H0V0z\" fill=\"none\"/>\n",
              "    <path d=\"M18.56 5.44l.94 2.06.94-2.06 2.06-.94-2.06-.94-.94-2.06-.94 2.06-2.06.94zm-11 1L8.5 8.5l.94-2.06 2.06-.94-2.06-.94L8.5 2.5l-.94 2.06-2.06.94zm10 10l.94 2.06.94-2.06 2.06-.94-2.06-.94-.94-2.06-.94 2.06-2.06.94z\"/><path d=\"M17.41 7.96l-1.37-1.37c-.4-.4-.92-.59-1.43-.59-.52 0-1.04.2-1.43.59L10.3 9.45l-7.72 7.72c-.78.78-.78 2.05 0 2.83L4 21.41c.39.39.9.59 1.41.59.51 0 1.02-.2 1.41-.59l7.78-7.78 2.81-2.81c.8-.78.8-2.07 0-2.86zM5.41 20L4 18.59l7.72-7.72 1.47 1.35L5.41 20z\"/>\n",
              "  </svg>\n",
              "      </button>\n",
              "      \n",
              "  <style>\n",
              "    .colab-df-container {\n",
              "      display:flex;\n",
              "      flex-wrap:wrap;\n",
              "      gap: 12px;\n",
              "    }\n",
              "\n",
              "    .colab-df-convert {\n",
              "      background-color: #E8F0FE;\n",
              "      border: none;\n",
              "      border-radius: 50%;\n",
              "      cursor: pointer;\n",
              "      display: none;\n",
              "      fill: #1967D2;\n",
              "      height: 32px;\n",
              "      padding: 0 0 0 0;\n",
              "      width: 32px;\n",
              "    }\n",
              "\n",
              "    .colab-df-convert:hover {\n",
              "      background-color: #E2EBFA;\n",
              "      box-shadow: 0px 1px 2px rgba(60, 64, 67, 0.3), 0px 1px 3px 1px rgba(60, 64, 67, 0.15);\n",
              "      fill: #174EA6;\n",
              "    }\n",
              "\n",
              "    [theme=dark] .colab-df-convert {\n",
              "      background-color: #3B4455;\n",
              "      fill: #D2E3FC;\n",
              "    }\n",
              "\n",
              "    [theme=dark] .colab-df-convert:hover {\n",
              "      background-color: #434B5C;\n",
              "      box-shadow: 0px 1px 3px 1px rgba(0, 0, 0, 0.15);\n",
              "      filter: drop-shadow(0px 1px 2px rgba(0, 0, 0, 0.3));\n",
              "      fill: #FFFFFF;\n",
              "    }\n",
              "  </style>\n",
              "\n",
              "      <script>\n",
              "        const buttonEl =\n",
              "          document.querySelector('#df-9f144a68-a3e1-4bca-b335-d0c3345ddfca button.colab-df-convert');\n",
              "        buttonEl.style.display =\n",
              "          google.colab.kernel.accessAllowed ? 'block' : 'none';\n",
              "\n",
              "        async function convertToInteractive(key) {\n",
              "          const element = document.querySelector('#df-9f144a68-a3e1-4bca-b335-d0c3345ddfca');\n",
              "          const dataTable =\n",
              "            await google.colab.kernel.invokeFunction('convertToInteractive',\n",
              "                                                     [key], {});\n",
              "          if (!dataTable) return;\n",
              "\n",
              "          const docLinkHtml = 'Like what you see? Visit the ' +\n",
              "            '<a target=\"_blank\" href=https://colab.research.google.com/notebooks/data_table.ipynb>data table notebook</a>'\n",
              "            + ' to learn more about interactive tables.';\n",
              "          element.innerHTML = '';\n",
              "          dataTable['output_type'] = 'display_data';\n",
              "          await google.colab.output.renderOutput(dataTable, element);\n",
              "          const docLink = document.createElement('div');\n",
              "          docLink.innerHTML = docLinkHtml;\n",
              "          element.appendChild(docLink);\n",
              "        }\n",
              "      </script>\n",
              "    </div>\n",
              "  </div>\n",
              "  "
            ],
            "text/plain": [
              "          A   B\n",
              "0      Jake  24\n",
              "1  Jennifer  21\n",
              "2      Paul  25\n",
              "3    Andrew  19"
            ]
          },
          "metadata": {},
          "execution_count": 204
        }
      ]
    },
    {
      "cell_type": "code",
      "source": [
        "df.loc[2]\t\t\t# Get the row n."
      ],
      "metadata": {
        "colab": {
          "base_uri": "https://localhost:8080/"
        },
        "id": "6kOV9kslJYdZ",
        "outputId": "c1f459d0-c850-4b92-d260-a0037bc398c4"
      },
      "execution_count": 207,
      "outputs": [
        {
          "output_type": "execute_result",
          "data": {
            "text/plain": [
              "A    Paul\n",
              "B      25\n",
              "C       M\n",
              "Name: 2, dtype: object"
            ]
          },
          "metadata": {},
          "execution_count": 207
        }
      ]
    },
    {
      "cell_type": "code",
      "source": [
        "df.iloc[n]\t\t\t# Get the row n."
      ],
      "metadata": {
        "id": "4jUn0G92JYbK"
      },
      "execution_count": null,
      "outputs": []
    },
    {
      "cell_type": "code",
      "source": [
        "df.loc[n:m]\t\t\t# Display the rows n through m."
      ],
      "metadata": {
        "id": "2Il8di9XJYYP"
      },
      "execution_count": null,
      "outputs": []
    },
    {
      "cell_type": "code",
      "source": [
        "df.iloc[n:m]\t\t\t# Display the rows n through m-1."
      ],
      "metadata": {
        "id": "fd5nimP1JYVq"
      },
      "execution_count": null,
      "outputs": []
    },
    {
      "cell_type": "code",
      "source": [
        "df.drop(columns=['B','C'])\t\t# All the columns excluding 'B' and 'C'."
      ],
      "metadata": {
        "id": "d_qeqW6MJYS_"
      },
      "execution_count": null,
      "outputs": []
    },
    {
      "cell_type": "code",
      "source": [
        "#df.loc[:, (header != 'B' ) & (header != 'C' )]\t# All the columns excluding 'B' and 'C'.  # Error"
      ],
      "metadata": {
        "id": "NYtF5_lXJYPt"
      },
      "execution_count": null,
      "outputs": []
    },
    {
      "cell_type": "code",
      "source": [
        "df[ df.GENDER == 'M' ]\t\t\t# Display the rows where GENDER is 'M'."
      ],
      "metadata": {
        "id": "dkyavCxPJYLL"
      },
      "execution_count": null,
      "outputs": []
    },
    {
      "cell_type": "code",
      "source": [
        "df[ -(df.GENDER == 'M') ]\t\t\t# Display the rows where GENDER is not 'M'."
      ],
      "metadata": {
        "id": "A7TMbfhtLj4n"
      },
      "execution_count": null,
      "outputs": []
    },
    {
      "cell_type": "code",
      "source": [
        "df[ df.HEIGHT > 170 ]\t\t\t# Display the rows where HEIGHT > 170."
      ],
      "metadata": {
        "id": "oNlfQZ3eLj1d"
      },
      "execution_count": null,
      "outputs": []
    },
    {
      "cell_type": "code",
      "source": [
        "df[ (df.HEIGHT > 170) & (df.HEIGHT < 180) ]\t\t# Combine the conditions with AND."
      ],
      "metadata": {
        "id": "40KyuGhtLjwS"
      },
      "execution_count": null,
      "outputs": []
    },
    {
      "cell_type": "code",
      "source": [
        "df[ (df.GENDER == 'M' ) & (df.HEIGHT < 180) ]\t# Combine the conditions with AND."
      ],
      "metadata": {
        "id": "g976P3DrLjt0"
      },
      "execution_count": null,
      "outputs": []
    },
    {
      "cell_type": "code",
      "source": [
        "df[ (df.HEIGHT < 160) | (df.HEIGHT > 180) ]\t\t# Combine the conditions with OR."
      ],
      "metadata": {
        "id": "CJzvL5jeJYH6"
      },
      "execution_count": null,
      "outputs": []
    },
    {
      "cell_type": "code",
      "source": [
        "df[ (df.GRADE == 1 ) | (df.GRADE ==4 ) ]\t\t# Combine the conditions with OR."
      ],
      "metadata": {
        "id": "bC_glEPqLjBI"
      },
      "execution_count": null,
      "outputs": []
    },
    {
      "cell_type": "code",
      "source": [
        "df[ (df.GENDER == 'M' ) & ((df.HEIGHT < 160) | (df.HEIGHT > 180) ) ]\t # Combine the conditions.\t"
      ],
      "metadata": {
        "id": "a3IryBc5Lr1v"
      },
      "execution_count": null,
      "outputs": []
    },
    {
      "cell_type": "markdown",
      "source": [
        ""
      ],
      "metadata": {
        "id": "SzTAA_VPLsEt"
      }
    }
  ]
}