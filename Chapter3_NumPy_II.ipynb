{
  "nbformat": 4,
  "nbformat_minor": 0,
  "metadata": {
    "colab": {
      "name": "Chapter3_NumPy_II.ipynb",
      "provenance": [],
      "collapsed_sections": [],
      "authorship_tag": "ABX9TyO1fa2eSS7WZRi27C2pl7vs",
      "include_colab_link": true
    },
    "kernelspec": {
      "name": "python3",
      "display_name": "Python 3"
    },
    "language_info": {
      "name": "python"
    }
  },
  "cells": [
    {
      "cell_type": "markdown",
      "metadata": {
        "id": "view-in-github",
        "colab_type": "text"
      },
      "source": [
        "<a href=\"https://colab.research.google.com/github/dborges14/SamsungInovationCampus_AI/blob/main/Chapter3_NumPy_II.ipynb\" target=\"_parent\"><img src=\"https://colab.research.google.com/assets/colab-badge.svg\" alt=\"Open In Colab\"/></a>"
      ]
    },
    {
      "cell_type": "markdown",
      "source": [
        "# **Numpy array operations**"
      ],
      "metadata": {
        "id": "dR0zH4i9oRny"
      }
    },
    {
      "cell_type": "code",
      "source": [
        "import numpy as np"
      ],
      "metadata": {
        "id": "DfNbo35Vos56"
      },
      "execution_count": 3,
      "outputs": []
    },
    {
      "cell_type": "code",
      "execution_count": 4,
      "metadata": {
        "id": "WpOEpsyreg7k",
        "colab": {
          "base_uri": "https://localhost:8080/"
        },
        "outputId": "6cf72291-a5b8-4a80-bcc2-c14610bf1e97"
      },
      "outputs": [
        {
          "output_type": "execute_result",
          "data": {
            "text/plain": [
              "[1, 2, 3, 4, 5, 6]"
            ]
          },
          "metadata": {},
          "execution_count": 4
        }
      ],
      "source": [
        "a = [1, 2, 3]\n",
        "b = [4, 5, 6]\n",
        "a + b       # For lists, '+' means concatenation."
      ]
    },
    {
      "cell_type": "code",
      "source": [
        "a = np.array([1, 2, 3])\n",
        "b = np.array([4, 5, 6])\n",
        "a + b\t\t\t\t# For NumPy arrays, '+' means element-wise addition"
      ],
      "metadata": {
        "colab": {
          "base_uri": "https://localhost:8080/"
        },
        "id": "NsaY5YSxoyqB",
        "outputId": "813b5d02-ad95-4b3f-b420-5e306412592d"
      },
      "execution_count": 5,
      "outputs": [
        {
          "output_type": "execute_result",
          "data": {
            "text/plain": [
              "array([5, 7, 9])"
            ]
          },
          "metadata": {},
          "execution_count": 5
        }
      ]
    },
    {
      "cell_type": "code",
      "source": [
        "a = [1, 2, 3]\n",
        "3 * a\t\t\t\t# For lists, '*' means repetition."
      ],
      "metadata": {
        "id": "0RyB5Xdnoyta"
      },
      "execution_count": null,
      "outputs": []
    },
    {
      "cell_type": "code",
      "source": [
        "b = np.array([1, 2, 3])\n",
        "3 * b\t\t\t\t# For NumPy arrays, '*' means multiplication of the elements."
      ],
      "metadata": {
        "colab": {
          "base_uri": "https://localhost:8080/"
        },
        "id": "XChQ8bAFoywh",
        "outputId": "13a3a0fb-1c41-4f73-f71a-d2527767e416"
      },
      "execution_count": 8,
      "outputs": [
        {
          "output_type": "execute_result",
          "data": {
            "text/plain": [
              "array([3, 6, 9])"
            ]
          },
          "metadata": {},
          "execution_count": 8
        }
      ]
    },
    {
      "cell_type": "code",
      "source": [
        "np.array(3 * [1, 2, 3])\n"
      ],
      "metadata": {
        "colab": {
          "base_uri": "https://localhost:8080/"
        },
        "id": "s2cXKHpRoy66",
        "outputId": "b246dbcc-8162-4fa5-b217-4642da38425f"
      },
      "execution_count": 11,
      "outputs": [
        {
          "output_type": "execute_result",
          "data": {
            "text/plain": [
              "array([1, 2, 3, 1, 2, 3, 1, 2, 3])"
            ]
          },
          "metadata": {},
          "execution_count": 11
        }
      ]
    },
    {
      "cell_type": "code",
      "source": [
        "np.repeat(b, 3)\t\t\t# Use repeat() function to repeat each element."
      ],
      "metadata": {
        "colab": {
          "base_uri": "https://localhost:8080/"
        },
        "id": "xK3w85w_oy0C",
        "outputId": "5ba80525-fb24-40e5-c0e3-fa798fa322d4"
      },
      "execution_count": 9,
      "outputs": [
        {
          "output_type": "execute_result",
          "data": {
            "text/plain": [
              "array([1, 1, 1, 2, 2, 2, 3, 3, 3])"
            ]
          },
          "metadata": {},
          "execution_count": 9
        }
      ]
    },
    {
      "cell_type": "code",
      "source": [
        "np.tile(b, 3)\t\t\t# Use tile() function to repeat the sequence."
      ],
      "metadata": {
        "colab": {
          "base_uri": "https://localhost:8080/"
        },
        "id": "nNHCm2qjoy3S",
        "outputId": "f249120a-8004-4fae-e556-1f8bbab9e7fe"
      },
      "execution_count": 10,
      "outputs": [
        {
          "output_type": "execute_result",
          "data": {
            "text/plain": [
              "array([1, 2, 3, 1, 2, 3, 1, 2, 3])"
            ]
          },
          "metadata": {},
          "execution_count": 10
        }
      ]
    },
    {
      "cell_type": "code",
      "source": [
        "a = np.array([1, 2, 3])\n",
        "b = np.array([4, 5, 6])\t\t\t\n",
        "a + b\t"
      ],
      "metadata": {
        "colab": {
          "base_uri": "https://localhost:8080/"
        },
        "id": "2nHKGl-zoy9p",
        "outputId": "cd1c2ed0-fa8c-4cdd-f54a-ae6588398fd3"
      },
      "execution_count": 14,
      "outputs": [
        {
          "output_type": "execute_result",
          "data": {
            "text/plain": [
              "array([5, 7, 9])"
            ]
          },
          "metadata": {},
          "execution_count": 14
        }
      ]
    },
    {
      "cell_type": "code",
      "source": [
        "b-a"
      ],
      "metadata": {
        "colab": {
          "base_uri": "https://localhost:8080/"
        },
        "id": "I5PVSnqtozBR",
        "outputId": "dd4f29d7-b5b0-41c2-b2c4-f5d8e1a1c10d"
      },
      "execution_count": 15,
      "outputs": [
        {
          "output_type": "execute_result",
          "data": {
            "text/plain": [
              "array([3, 3, 3])"
            ]
          },
          "metadata": {},
          "execution_count": 15
        }
      ]
    },
    {
      "cell_type": "code",
      "source": [
        "a*b"
      ],
      "metadata": {
        "colab": {
          "base_uri": "https://localhost:8080/"
        },
        "id": "CLX396hsozEx",
        "outputId": "d31bd8e6-167b-487b-a7c5-398cf02faef4"
      },
      "execution_count": 16,
      "outputs": [
        {
          "output_type": "execute_result",
          "data": {
            "text/plain": [
              "array([ 4, 10, 18])"
            ]
          },
          "metadata": {},
          "execution_count": 16
        }
      ]
    },
    {
      "cell_type": "code",
      "source": [
        "1.0*a/b"
      ],
      "metadata": {
        "colab": {
          "base_uri": "https://localhost:8080/"
        },
        "id": "LjVO-p7lozIK",
        "outputId": "1886318e-d659-4941-f857-b958e87664fd"
      },
      "execution_count": 18,
      "outputs": [
        {
          "output_type": "execute_result",
          "data": {
            "text/plain": [
              "array([0.25, 0.4 , 0.5 ])"
            ]
          },
          "metadata": {},
          "execution_count": 18
        }
      ]
    },
    {
      "cell_type": "markdown",
      "source": [
        "**Universal functions:**"
      ],
      "metadata": {
        "id": "8XOWKdPCqKKq"
      }
    },
    {
      "cell_type": "code",
      "source": [
        "x = np.array([0, 1, 2, 3])\t\t\n",
        "x**3"
      ],
      "metadata": {
        "colab": {
          "base_uri": "https://localhost:8080/"
        },
        "id": "YnHA6K6oozLZ",
        "outputId": "5859251b-8937-409f-f882-764dd9540652"
      },
      "execution_count": 21,
      "outputs": [
        {
          "output_type": "execute_result",
          "data": {
            "text/plain": [
              "array([ 0,  1,  8, 27])"
            ]
          },
          "metadata": {},
          "execution_count": 21
        }
      ]
    },
    {
      "cell_type": "code",
      "source": [
        "np.sqrt(x)"
      ],
      "metadata": {
        "colab": {
          "base_uri": "https://localhost:8080/"
        },
        "id": "Aw3tOxK1ozOx",
        "outputId": "b4a9cf37-5ea9-468f-cf9d-7e567b700787"
      },
      "execution_count": 22,
      "outputs": [
        {
          "output_type": "execute_result",
          "data": {
            "text/plain": [
              "array([0.        , 1.        , 1.41421356, 1.73205081])"
            ]
          },
          "metadata": {},
          "execution_count": 22
        }
      ]
    },
    {
      "cell_type": "code",
      "source": [
        "np.exp(x)"
      ],
      "metadata": {
        "colab": {
          "base_uri": "https://localhost:8080/"
        },
        "id": "jOolDThLozRr",
        "outputId": "b91ec3fe-632b-4656-bf10-656ce161130c"
      },
      "execution_count": 23,
      "outputs": [
        {
          "output_type": "execute_result",
          "data": {
            "text/plain": [
              "array([ 1.        ,  2.71828183,  7.3890561 , 20.08553692])"
            ]
          },
          "metadata": {},
          "execution_count": 23
        }
      ]
    },
    {
      "cell_type": "code",
      "source": [
        "np.sin(x)"
      ],
      "metadata": {
        "colab": {
          "base_uri": "https://localhost:8080/"
        },
        "id": "AUqtnlajozU8",
        "outputId": "0beaeaae-aae5-43d6-941d-354cf782b71b"
      },
      "execution_count": 24,
      "outputs": [
        {
          "output_type": "execute_result",
          "data": {
            "text/plain": [
              "array([0.        , 0.84147098, 0.90929743, 0.14112001])"
            ]
          },
          "metadata": {},
          "execution_count": 24
        }
      ]
    },
    {
      "cell_type": "code",
      "source": [
        "type(np.sin)"
      ],
      "metadata": {
        "colab": {
          "base_uri": "https://localhost:8080/"
        },
        "id": "DTAq2Ym2ozX5",
        "outputId": "9fb48961-d541-430d-83db-7522a2fb353f"
      },
      "execution_count": 19,
      "outputs": [
        {
          "output_type": "execute_result",
          "data": {
            "text/plain": [
              "numpy.ufunc"
            ]
          },
          "metadata": {},
          "execution_count": 19
        }
      ]
    },
    {
      "cell_type": "markdown",
      "source": [
        "**Numpy functions**\n",
        "\n",
        "![image.png](data:image/png;base64,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)"
      ],
      "metadata": {
        "id": "IVi1VWPAt2Vg"
      }
    },
    {
      "cell_type": "markdown",
      "source": [
        "**Statistical methods of NumPy arrays:**\n",
        "\n",
        "![image.png](data:image/png;base64,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)"
      ],
      "metadata": {
        "id": "Y3Y75mQEuOIN"
      }
    },
    {
      "cell_type": "code",
      "source": [
        "x = np.arange(1,11)\n",
        "x.sum()     # Sum of the elements."
      ],
      "metadata": {
        "colab": {
          "base_uri": "https://localhost:8080/"
        },
        "id": "f_KTxJF9ozbL",
        "outputId": "3502786d-9de7-4cc2-c646-e339650e725f"
      },
      "execution_count": 27,
      "outputs": [
        {
          "output_type": "execute_result",
          "data": {
            "text/plain": [
              "55"
            ]
          },
          "metadata": {},
          "execution_count": 27
        }
      ]
    },
    {
      "cell_type": "code",
      "source": [
        "x.mean()     # Average."
      ],
      "metadata": {
        "id": "z08FLm2zozeT"
      },
      "execution_count": null,
      "outputs": []
    },
    {
      "cell_type": "code",
      "source": [
        "x.std()     # Standard deviation."
      ],
      "metadata": {
        "id": "UZLmVsloozhL"
      },
      "execution_count": null,
      "outputs": []
    },
    {
      "cell_type": "code",
      "source": [
        "x.var()     # Variance."
      ],
      "metadata": {
        "id": "5fIhm0EfozkE"
      },
      "execution_count": null,
      "outputs": []
    },
    {
      "cell_type": "code",
      "source": [
        "x.cumsum()     # Cumulative sums given as an array."
      ],
      "metadata": {
        "colab": {
          "base_uri": "https://localhost:8080/"
        },
        "id": "8uKpZhbbozsK",
        "outputId": "d5b4e80e-5b1a-4f39-91b8-a7e50a0271cb"
      },
      "execution_count": 32,
      "outputs": [
        {
          "output_type": "execute_result",
          "data": {
            "text/plain": [
              "array([ 1,  3,  6, 10, 15, 21, 28, 36, 45])"
            ]
          },
          "metadata": {},
          "execution_count": 32
        }
      ]
    },
    {
      "cell_type": "code",
      "source": [
        "x = np.arange(1,10)\t\t\n",
        "x = x.reshape((3,-1))\t\t\t\t# Shape (3,-1) means (3,3).\n",
        "print(x)"
      ],
      "metadata": {
        "colab": {
          "base_uri": "https://localhost:8080/"
        },
        "id": "p8jIffuJusle",
        "outputId": "410b5821-46e4-4b99-f1d5-584abbf3f527"
      },
      "execution_count": 30,
      "outputs": [
        {
          "output_type": "stream",
          "name": "stdout",
          "text": [
            "[[1 2 3]\n",
            " [4 5 6]\n",
            " [7 8 9]]\n"
          ]
        }
      ]
    },
    {
      "cell_type": "code",
      "source": [
        "print(x.mean(axis=0)) \t\t\t\t # Column averages."
      ],
      "metadata": {
        "id": "yF7Hy0pNusop"
      },
      "execution_count": null,
      "outputs": []
    },
    {
      "cell_type": "code",
      "source": [
        "print(x.mean(axis=1))          # Row averages."
      ],
      "metadata": {
        "colab": {
          "base_uri": "https://localhost:8080/"
        },
        "id": "AFwVXRFnusrh",
        "outputId": "423eb66f-9521-453f-e2fe-da462a2847a4"
      },
      "execution_count": 31,
      "outputs": [
        {
          "output_type": "stream",
          "name": "stdout",
          "text": [
            "[2. 5. 8.]\n"
          ]
        }
      ]
    },
    {
      "cell_type": "code",
      "source": [
        "np.random.seed(123)\t\t\n",
        "x = np.random.randint(10, size=1000)\t\t# 1000 random integers from the range 0~9.\n",
        "x"
      ],
      "metadata": {
        "colab": {
          "base_uri": "https://localhost:8080/"
        },
        "id": "qdjcfDBDusuO",
        "outputId": "d603e308-c87a-48a3-e7f3-6abd9172fb16"
      },
      "execution_count": 33,
      "outputs": [
        {
          "output_type": "execute_result",
          "data": {
            "text/plain": [
              "array([2, 2, 6, 1, 3, 9, 6, 1, 0, 1, 9, 0, 0, 9, 3, 4, 0, 0, 4, 1, 7, 3,\n",
              "       2, 4, 7, 2, 4, 8, 0, 7, 9, 3, 4, 6, 1, 5, 6, 2, 1, 8, 3, 5, 0, 2,\n",
              "       6, 2, 4, 4, 6, 3, 0, 6, 4, 7, 6, 7, 1, 5, 7, 9, 2, 4, 8, 1, 2, 1,\n",
              "       1, 3, 5, 9, 0, 8, 1, 6, 3, 3, 5, 9, 7, 9, 2, 3, 3, 3, 8, 6, 9, 7,\n",
              "       6, 3, 9, 6, 6, 6, 1, 3, 4, 3, 1, 0, 5, 8, 6, 8, 9, 1, 0, 3, 1, 3,\n",
              "       4, 7, 6, 1, 4, 3, 3, 7, 6, 8, 6, 4, 4, 7, 0, 0, 9, 8, 8, 4, 8, 6,\n",
              "       1, 6, 8, 7, 9, 1, 7, 1, 7, 9, 8, 7, 1, 3, 1, 8, 7, 5, 1, 2, 5, 2,\n",
              "       2, 9, 3, 2, 6, 7, 9, 1, 3, 8, 3, 7, 9, 9, 3, 3, 5, 6, 0, 8, 7, 7,\n",
              "       4, 4, 5, 0, 8, 9, 2, 5, 1, 5, 9, 2, 4, 3, 0, 3, 7, 7, 2, 5, 1, 7,\n",
              "       5, 9, 1, 2, 8, 5, 0, 9, 3, 3, 3, 1, 7, 6, 3, 1, 7, 2, 6, 5, 9, 8,\n",
              "       9, 4, 7, 8, 5, 9, 2, 4, 3, 3, 1, 7, 8, 5, 7, 7, 7, 5, 0, 0, 8, 1,\n",
              "       0, 4, 5, 4, 5, 0, 7, 1, 2, 2, 7, 7, 3, 6, 1, 8, 4, 1, 6, 5, 9, 0,\n",
              "       3, 1, 3, 7, 7, 7, 5, 3, 6, 3, 5, 1, 5, 9, 1, 3, 9, 1, 5, 6, 1, 5,\n",
              "       0, 7, 0, 3, 0, 6, 2, 7, 5, 1, 0, 0, 2, 6, 5, 9, 1, 5, 3, 6, 4, 7,\n",
              "       1, 6, 0, 3, 1, 3, 0, 8, 5, 1, 4, 3, 2, 2, 0, 2, 0, 2, 7, 9, 0, 3,\n",
              "       9, 7, 0, 5, 4, 6, 0, 7, 8, 8, 1, 0, 1, 7, 5, 3, 0, 4, 8, 4, 9, 3,\n",
              "       5, 1, 8, 0, 9, 1, 5, 8, 8, 4, 6, 8, 7, 9, 2, 0, 0, 9, 9, 5, 3, 5,\n",
              "       5, 2, 2, 7, 3, 1, 3, 9, 3, 6, 2, 3, 1, 9, 8, 0, 2, 3, 7, 9, 2, 7,\n",
              "       9, 7, 1, 4, 7, 4, 7, 8, 0, 2, 7, 4, 3, 7, 3, 7, 0, 7, 6, 8, 6, 8,\n",
              "       0, 5, 3, 2, 4, 3, 3, 9, 7, 1, 8, 0, 1, 4, 7, 2, 4, 8, 3, 4, 9, 6,\n",
              "       2, 7, 7, 7, 4, 7, 8, 4, 0, 7, 6, 3, 4, 1, 1, 7, 2, 7, 8, 9, 4, 4,\n",
              "       4, 7, 7, 9, 9, 4, 1, 5, 5, 8, 9, 5, 1, 0, 6, 0, 9, 4, 6, 4, 5, 3,\n",
              "       4, 6, 2, 5, 2, 4, 3, 2, 4, 8, 0, 6, 8, 8, 5, 6, 5, 6, 0, 4, 9, 0,\n",
              "       8, 0, 5, 6, 6, 8, 8, 4, 4, 0, 1, 9, 0, 7, 5, 4, 7, 2, 3, 5, 5, 4,\n",
              "       2, 6, 9, 7, 9, 4, 9, 6, 5, 7, 3, 9, 1, 3, 9, 3, 8, 3, 5, 6, 7, 6,\n",
              "       5, 7, 1, 1, 6, 6, 4, 9, 0, 9, 3, 8, 5, 3, 3, 8, 7, 0, 1, 7, 2, 3,\n",
              "       5, 5, 0, 2, 5, 8, 9, 7, 9, 7, 4, 5, 1, 8, 6, 8, 4, 2, 7, 1, 6, 2,\n",
              "       6, 5, 6, 0, 3, 2, 2, 9, 7, 5, 5, 0, 0, 9, 3, 7, 1, 8, 2, 5, 0, 1,\n",
              "       0, 7, 7, 5, 8, 1, 5, 6, 7, 0, 6, 4, 1, 4, 2, 2, 1, 0, 9, 1, 1, 6,\n",
              "       6, 3, 9, 6, 7, 7, 6, 1, 9, 3, 7, 2, 3, 8, 0, 3, 3, 9, 8, 6, 3, 7,\n",
              "       5, 8, 4, 8, 5, 1, 7, 2, 7, 8, 1, 7, 1, 8, 1, 9, 2, 3, 4, 2, 0, 7,\n",
              "       5, 9, 8, 5, 0, 5, 5, 1, 3, 8, 0, 8, 0, 0, 9, 2, 5, 1, 2, 3, 0, 6,\n",
              "       7, 3, 9, 7, 9, 4, 8, 0, 9, 7, 0, 0, 2, 4, 9, 1, 9, 5, 8, 5, 6, 8,\n",
              "       4, 8, 4, 1, 3, 2, 7, 0, 6, 2, 7, 3, 6, 4, 2, 6, 9, 9, 4, 7, 0, 3,\n",
              "       3, 1, 2, 1, 3, 0, 4, 7, 4, 4, 7, 6, 3, 3, 9, 6, 7, 4, 9, 1, 7, 4,\n",
              "       0, 1, 2, 3, 9, 0, 6, 8, 2, 4, 1, 9, 6, 0, 3, 5, 2, 9, 6, 7, 9, 5,\n",
              "       7, 5, 4, 4, 7, 8, 0, 2, 2, 0, 7, 1, 1, 0, 2, 7, 5, 9, 3, 3, 6, 5,\n",
              "       4, 8, 9, 6, 4, 8, 0, 6, 4, 9, 0, 0, 5, 8, 0, 8, 1, 6, 4, 7, 2, 5,\n",
              "       4, 6, 3, 0, 4, 9, 9, 0, 2, 7, 6, 0, 3, 6, 4, 1, 5, 3, 8, 9, 0, 8,\n",
              "       9, 7, 2, 4, 0, 8, 3, 2, 3, 6, 2, 8, 5, 4, 4, 0, 0, 3, 8, 5, 4, 1,\n",
              "       4, 2, 1, 4, 1, 8, 1, 1, 7, 2, 8, 9, 8, 3, 3, 4, 3, 3, 6, 1, 6, 2,\n",
              "       7, 7, 0, 5, 4, 6, 1, 1, 4, 0, 7, 6, 8, 7, 6, 8, 2, 6, 4, 0, 5, 8,\n",
              "       6, 4, 2, 4, 0, 0, 5, 9, 0, 9, 8, 6, 5, 5, 3, 8, 1, 8, 3, 7, 8, 5,\n",
              "       9, 1, 4, 9, 3, 4, 4, 4, 0, 0, 6, 8, 4, 8, 0, 1, 7, 6, 2, 6, 4, 2,\n",
              "       4, 7, 5, 8, 1, 3, 3, 9, 1, 5, 5, 2, 4, 6, 9, 0, 9, 5, 3, 1, 7, 6,\n",
              "       5, 6, 2, 8, 1, 2, 4, 7, 9, 5])"
            ]
          },
          "metadata": {},
          "execution_count": 33
        }
      ]
    },
    {
      "cell_type": "code",
      "source": [
        "x.min()"
      ],
      "metadata": {
        "colab": {
          "base_uri": "https://localhost:8080/"
        },
        "id": "zSxJqYequsxT",
        "outputId": "7fd71fcd-86cd-4622-d4e8-4bb8277957c4"
      },
      "execution_count": 34,
      "outputs": [
        {
          "output_type": "execute_result",
          "data": {
            "text/plain": [
              "0"
            ]
          },
          "metadata": {},
          "execution_count": 34
        }
      ]
    },
    {
      "cell_type": "code",
      "source": [
        "x.max()"
      ],
      "metadata": {
        "colab": {
          "base_uri": "https://localhost:8080/"
        },
        "id": "WT4l2irxus0n",
        "outputId": "1487c73b-3750-4de8-d914-234cd733e847"
      },
      "execution_count": 35,
      "outputs": [
        {
          "output_type": "execute_result",
          "data": {
            "text/plain": [
              "9"
            ]
          },
          "metadata": {},
          "execution_count": 35
        }
      ]
    },
    {
      "cell_type": "code",
      "source": [
        "(x > 5).sum()\t\t\t\t# Count the number of elements larger than 5."
      ],
      "metadata": {
        "id": "08VvYvVxus3h"
      },
      "execution_count": null,
      "outputs": []
    },
    {
      "cell_type": "markdown",
      "source": [
        "Time for Coding Exercise **'ex_0202.ipynb'**"
      ],
      "metadata": {
        "id": "lAT2EYvOxgDA"
      }
    }
  ]
}