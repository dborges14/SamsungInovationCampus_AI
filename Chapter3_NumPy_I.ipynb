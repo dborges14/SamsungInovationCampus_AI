{
  "nbformat": 4,
  "nbformat_minor": 0,
  "metadata": {
    "colab": {
      "name": "Chapter3_NumPy_I.ipynb",
      "provenance": [],
      "collapsed_sections": [],
      "include_colab_link": true
    },
    "kernelspec": {
      "name": "python3",
      "display_name": "Python 3"
    },
    "language_info": {
      "name": "python"
    }
  },
  "cells": [
    {
      "cell_type": "markdown",
      "metadata": {
        "id": "view-in-github",
        "colab_type": "text"
      },
      "source": [
        "<a href=\"https://colab.research.google.com/github/dborges14/SamsungInovationCampus_AI/blob/main/Chapter3_NumPy_I.ipynb\" target=\"_parent\"><img src=\"https://colab.research.google.com/assets/colab-badge.svg\" alt=\"Open In Colab\"/></a>"
      ]
    },
    {
      "cell_type": "markdown",
      "source": [
        "# **NumPy array basics**"
      ],
      "metadata": {
        "id": "IdbD-s-Mb9V2"
      }
    },
    {
      "cell_type": "markdown",
      "source": [
        "What is **NumPy** ?\n",
        "\n",
        "- An open source Python library that supports multi-dimensional arrays.\n",
        "- Provides high-level mathematical functions.\n",
        "- Supports fast vectorized operations on arrays.\n"
      ],
      "metadata": {
        "id": "mRUFVCQD1uIl"
      }
    },
    {
      "cell_type": "markdown",
      "source": [
        "NumPy array compared to Python list:\n",
        "\n",
        "- NumPy arrays are mutable like lists.   \n",
        "- However, unlike lists the elements of a NumPy array should have the same data type.\n",
        "- NumPy array is the standard input/output format for many machine learning libraries.\n",
        "- NumPy arrays come with many attributes and methods not found in the Python list.\n"
      ],
      "metadata": {
        "id": "h2Ix-TOA14lk"
      }
    },
    {
      "cell_type": "code",
      "execution_count": 1,
      "metadata": {
        "colab": {
          "base_uri": "https://localhost:8080/",
          "height": 35
        },
        "id": "jQ0eWsvbvqT9",
        "outputId": "ae437f8b-fd01-4a24-d891-27190d68a5fa"
      },
      "outputs": [
        {
          "output_type": "execute_result",
          "data": {
            "application/vnd.google.colaboratory.intrinsic+json": {
              "type": "string"
            },
            "text/plain": [
              "'1.19.5'"
            ]
          },
          "metadata": {},
          "execution_count": 1
        }
      ],
      "source": [
        "import numpy as np    # Import the NumPy package and abbreviate its name as 'np'. \n",
        "np.__version__        # Currently installed NumPy version."
      ]
    },
    {
      "cell_type": "code",
      "source": [
        "arr1 = np.array([1,3,5,7,9])\t\t# Create an array from a list.\n",
        "arr2 = np.array((1,3,5,7,9))\t\t# Create an array from a tuple.\n",
        "arr1"
      ],
      "metadata": {
        "colab": {
          "base_uri": "https://localhost:8080/"
        },
        "id": "ikoyvXpsSVBS",
        "outputId": "460a4e4b-3537-47a0-8128-fbbccf6286ac"
      },
      "execution_count": 2,
      "outputs": [
        {
          "output_type": "execute_result",
          "data": {
            "text/plain": [
              "array([1, 3, 5, 7, 9])"
            ]
          },
          "metadata": {},
          "execution_count": 2
        }
      ]
    },
    {
      "cell_type": "code",
      "source": [
        "type(arr2)"
      ],
      "metadata": {
        "id": "J7dPtBoLvrga",
        "colab": {
          "base_uri": "https://localhost:8080/"
        },
        "outputId": "a1931750-ffbf-49d7-80bf-5def91427274"
      },
      "execution_count": 3,
      "outputs": [
        {
          "output_type": "execute_result",
          "data": {
            "text/plain": [
              "numpy.ndarray"
            ]
          },
          "metadata": {},
          "execution_count": 3
        }
      ]
    },
    {
      "cell_type": "code",
      "source": [
        "arr3 = arr1\t\t\t\t\t# Simple assignment."
      ],
      "metadata": {
        "id": "Ln4cXAb5UUkp"
      },
      "execution_count": null,
      "outputs": []
    },
    {
      "cell_type": "code",
      "source": [
        "arr4 = arr1.copy()\t\t\t# Make a shallow copy. \n",
        "print(id(arr1))\n",
        "print(id(arr4))"
      ],
      "metadata": {
        "colab": {
          "base_uri": "https://localhost:8080/"
        },
        "id": "RrJZ8LxPUYDH",
        "outputId": "f9ba9f5c-275a-4e8a-c4ed-b66bf289c3e5"
      },
      "execution_count": null,
      "outputs": [
        {
          "output_type": "stream",
          "name": "stdout",
          "text": [
            "140461720511952\n",
            "140461789136576\n"
          ]
        }
      ]
    },
    {
      "cell_type": "code",
      "source": [
        "arr1 = np.array([111, 2.3,  True, False, False]) \t\t# Numeric and Boolean values entered.\n",
        "arr1\t\t\t\t\t\t\t\t\t# Automatic conversion to the float type."
      ],
      "metadata": {
        "colab": {
          "base_uri": "https://localhost:8080/"
        },
        "id": "OnjTikifU2Jm",
        "outputId": "d2709a0d-432d-4606-eea5-81fb6ce79e83"
      },
      "execution_count": null,
      "outputs": [
        {
          "output_type": "execute_result",
          "data": {
            "text/plain": [
              "array([111. ,   2.3,   1. ,   0. ,   0. ])"
            ]
          },
          "metadata": {},
          "execution_count": 21
        }
      ]
    },
    {
      "cell_type": "code",
      "source": [
        "arr2 = np.array([111, 2.3, 'python', 'abc']) \t\t\t# Numeric and string values entered. \n",
        "arr2\t\t\t\t\t\t\t\t\t# Automatic conversion to the string type."
      ],
      "metadata": {
        "colab": {
          "base_uri": "https://localhost:8080/"
        },
        "id": "wbTAOE2VU-N2",
        "outputId": "2201ecc0-4bcc-471a-f383-f799be7b7117"
      },
      "execution_count": null,
      "outputs": [
        {
          "output_type": "execute_result",
          "data": {
            "text/plain": [
              "array(['111', '2.3', 'python', 'abc'], dtype='<U32')"
            ]
          },
          "metadata": {},
          "execution_count": 22
        }
      ]
    },
    {
      "cell_type": "code",
      "source": [
        "arr3 = np.array([111, True, 'abc']) \t\t\t\t# Numeric, Boolean and string values entered.\n",
        "arr3\t\t\t\t\t\t\t\t\t# Automatic conversion to the string type."
      ],
      "metadata": {
        "colab": {
          "base_uri": "https://localhost:8080/"
        },
        "id": "F0e0fZyQVEJu",
        "outputId": "0769de6b-cb25-49be-f134-0f50ff4beb26"
      },
      "execution_count": null,
      "outputs": [
        {
          "output_type": "execute_result",
          "data": {
            "text/plain": [
              "array(['111', 'True', 'abc'], dtype='<U21')"
            ]
          },
          "metadata": {},
          "execution_count": 23
        }
      ]
    },
    {
      "cell_type": "code",
      "source": [
        "np.arange(10)\t\t\t\t  # Array corresponding to the range 0~9."
      ],
      "metadata": {
        "colab": {
          "base_uri": "https://localhost:8080/"
        },
        "id": "-4PJrbaAV19_",
        "outputId": "ffb96050-8d36-4159-c30d-80a41ab24e96"
      },
      "execution_count": null,
      "outputs": [
        {
          "output_type": "execute_result",
          "data": {
            "text/plain": [
              "array([0, 1, 2, 3, 4, 5, 6, 7, 8, 9])"
            ]
          },
          "metadata": {},
          "execution_count": 24
        }
      ]
    },
    {
      "cell_type": "markdown",
      "source": [
        "**Data types for NumPy arrays:**\n",
        "\n",
        "![image.png](data:image/png;base64,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)"
      ],
      "metadata": {
        "id": "JiqEc-fcrK8z"
      }
    },
    {
      "cell_type": "code",
      "source": [
        "np.arange(10,20)\t\t\t# Array corresponding to the range 10~19."
      ],
      "metadata": {
        "colab": {
          "base_uri": "https://localhost:8080/"
        },
        "id": "9JfUYNhsV9UW",
        "outputId": "b6e996ad-844c-41a3-e5ee-eaa5152e7eae"
      },
      "execution_count": null,
      "outputs": [
        {
          "output_type": "execute_result",
          "data": {
            "text/plain": [
              "array([10, 11, 12, 13, 14, 15, 16, 17, 18, 19])"
            ]
          },
          "metadata": {},
          "execution_count": 25
        }
      ]
    },
    {
      "cell_type": "code",
      "source": [
        "np.arange(10, 20, 3)\t\t\t# Array corresponding to the range10~19, step = 3."
      ],
      "metadata": {
        "id": "Cp6uBsblWFu_"
      },
      "execution_count": null,
      "outputs": []
    },
    {
      "cell_type": "code",
      "source": [
        "arr = np.arange(10) \t\n",
        "len(arr) \t\t \t\t\t\t\t\t# Returns the length. Same as with Python list."
      ],
      "metadata": {
        "colab": {
          "base_uri": "https://localhost:8080/"
        },
        "id": "YBXeSGnCWFxw",
        "outputId": "2337ae32-718c-491f-aa59-d685f59f01bb"
      },
      "execution_count": null,
      "outputs": [
        {
          "output_type": "execute_result",
          "data": {
            "text/plain": [
              "10"
            ]
          },
          "metadata": {},
          "execution_count": 26
        }
      ]
    },
    {
      "cell_type": "code",
      "source": [
        "arr.size                # Attribute 'size' equals the number of elements. "
      ],
      "metadata": {
        "colab": {
          "base_uri": "https://localhost:8080/"
        },
        "id": "-hOmJGl4WF0Z",
        "outputId": "1fb3945e-7bb1-44f0-d7bc-a3828ced060a"
      },
      "execution_count": null,
      "outputs": [
        {
          "output_type": "execute_result",
          "data": {
            "text/plain": [
              "10"
            ]
          },
          "metadata": {},
          "execution_count": 27
        }
      ]
    },
    {
      "cell_type": "code",
      "source": [
        "np.linspace(0, 10, 5)\t\t\t\t\t# Equally spaced 5 numbers between 0 and 10."
      ],
      "metadata": {
        "id": "q4ymNIlMWF3U",
        "colab": {
          "base_uri": "https://localhost:8080/"
        },
        "outputId": "40a0a1e8-921f-429a-c8b6-8b71b0a53138"
      },
      "execution_count": null,
      "outputs": [
        {
          "output_type": "execute_result",
          "data": {
            "text/plain": [
              "array([ 0. ,  2.5,  5. ,  7.5, 10. ])"
            ]
          },
          "metadata": {},
          "execution_count": 3
        }
      ]
    },
    {
      "cell_type": "code",
      "source": [
        "np.zeros(10)   # 10 zeros."
      ],
      "metadata": {
        "id": "MYBBp3u0WF50"
      },
      "execution_count": null,
      "outputs": []
    },
    {
      "cell_type": "code",
      "source": [
        "np.zeros((3,4))\t\t\t\t# The shape is given as a tuple."
      ],
      "metadata": {
        "id": "PHE3l8vWWF8F",
        "colab": {
          "base_uri": "https://localhost:8080/"
        },
        "outputId": "b844a168-17de-4273-f9a0-87761d203861"
      },
      "execution_count": null,
      "outputs": [
        {
          "output_type": "execute_result",
          "data": {
            "text/plain": [
              "array([[0., 0., 0., 0.],\n",
              "       [0., 0., 0., 0.],\n",
              "       [0., 0., 0., 0.]])"
            ]
          },
          "metadata": {},
          "execution_count": 4
        }
      ]
    },
    {
      "cell_type": "code",
      "source": [
        "np.zeros(5, dtype ='int64')\t\t\t# Specified the data type of the elements."
      ],
      "metadata": {
        "id": "TQqzjOuQWF_C",
        "colab": {
          "base_uri": "https://localhost:8080/"
        },
        "outputId": "934f2c0f-41ab-4e1f-bf21-41b1d9106724"
      },
      "execution_count": null,
      "outputs": [
        {
          "output_type": "execute_result",
          "data": {
            "text/plain": [
              "array([0, 0, 0, 0, 0])"
            ]
          },
          "metadata": {},
          "execution_count": 5
        }
      ]
    },
    {
      "cell_type": "code",
      "source": [
        "zeros = np.zeros(5, dtype ='int64')\n",
        "zeros.dtype"
      ],
      "metadata": {
        "id": "3pYcQpeSWGBm",
        "colab": {
          "base_uri": "https://localhost:8080/"
        },
        "outputId": "040f7221-461f-4a1e-9c44-de1e4d82e974"
      },
      "execution_count": null,
      "outputs": [
        {
          "output_type": "execute_result",
          "data": {
            "text/plain": [
              "dtype('int64')"
            ]
          },
          "metadata": {},
          "execution_count": 7
        }
      ]
    },
    {
      "cell_type": "code",
      "source": [
        "arr = np.ones((2,3), dtype ='int_')\t\t # The shape given as a tuple. Data type is specified. \t\n",
        "arr"
      ],
      "metadata": {
        "id": "TinfIUU7WGEI",
        "colab": {
          "base_uri": "https://localhost:8080/"
        },
        "outputId": "7798df17-6173-4b52-a716-ed42e75c6412"
      },
      "execution_count": null,
      "outputs": [
        {
          "output_type": "execute_result",
          "data": {
            "text/plain": [
              "array([[1, 1, 1],\n",
              "       [1, 1, 1]])"
            ]
          },
          "metadata": {},
          "execution_count": 9
        }
      ]
    },
    {
      "cell_type": "code",
      "source": [
        "arr.dtype"
      ],
      "metadata": {
        "id": "czrCkv4uWGG6",
        "colab": {
          "base_uri": "https://localhost:8080/"
        },
        "outputId": "d7988216-2c84-43a6-8f75-d81467986797"
      },
      "execution_count": null,
      "outputs": [
        {
          "output_type": "execute_result",
          "data": {
            "text/plain": [
              "dtype('int64')"
            ]
          },
          "metadata": {},
          "execution_count": 12
        }
      ]
    },
    {
      "cell_type": "code",
      "source": [
        "arr.astype('float32')\t\t # Re-cast the data type as 'float32'."
      ],
      "metadata": {
        "id": "jWlIRn9PWGJR",
        "colab": {
          "base_uri": "https://localhost:8080/"
        },
        "outputId": "445c10b3-5d4f-45c0-c827-8305b37691fb"
      },
      "execution_count": null,
      "outputs": [
        {
          "output_type": "execute_result",
          "data": {
            "text/plain": [
              "array([[1., 1., 1.],\n",
              "       [1., 1., 1.]], dtype=float32)"
            ]
          },
          "metadata": {},
          "execution_count": 13
        }
      ]
    },
    {
      "cell_type": "code",
      "source": [
        "arr.dtype"
      ],
      "metadata": {
        "id": "BrMAI1hFWGMH",
        "colab": {
          "base_uri": "https://localhost:8080/"
        },
        "outputId": "9b86937a-451d-4b45-b7c9-6b2305e9b74b"
      },
      "execution_count": null,
      "outputs": [
        {
          "output_type": "execute_result",
          "data": {
            "text/plain": [
              "dtype('int64')"
            ]
          },
          "metadata": {},
          "execution_count": 14
        }
      ]
    },
    {
      "cell_type": "markdown",
      "source": [
        "**Indexing and slicing NumPy arrays:**\n",
        "\n",
        "![image.png](data:image/png;base64,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)"
      ],
      "metadata": {
        "id": "yuGjnJhPr_wx"
      }
    },
    {
      "cell_type": "code",
      "source": [
        "a = np.array([1, 2, 3, 4, 5])\t\t# A one dimensional NumPy array.\n",
        "a[:2]"
      ],
      "metadata": {
        "id": "ZZVfX3JYWGOj",
        "colab": {
          "base_uri": "https://localhost:8080/"
        },
        "outputId": "1ace7400-cf83-4287-e5f1-e9bc59714bf8"
      },
      "execution_count": null,
      "outputs": [
        {
          "output_type": "execute_result",
          "data": {
            "text/plain": [
              "array([1, 2])"
            ]
          },
          "metadata": {},
          "execution_count": 15
        }
      ]
    },
    {
      "cell_type": "code",
      "source": [
        "a[-1]\t\t\t\t# The first element from last."
      ],
      "metadata": {
        "id": "Ud_1RdyzWGTI",
        "colab": {
          "base_uri": "https://localhost:8080/"
        },
        "outputId": "581f463d-5171-4689-db71-09ed0eaae3be"
      },
      "execution_count": null,
      "outputs": [
        {
          "output_type": "execute_result",
          "data": {
            "text/plain": [
              "5"
            ]
          },
          "metadata": {},
          "execution_count": 16
        }
      ]
    },
    {
      "cell_type": "code",
      "source": [
        "a[:]\t\t\t\t# The whole array."
      ],
      "metadata": {
        "id": "GxOWY8hAWGWE"
      },
      "execution_count": null,
      "outputs": []
    },
    {
      "cell_type": "code",
      "source": [
        "a = np.array([[1, 2, 3], [4, 5, 6], [7, 8, 9]])\t# This is a 3 x 3 two dimensional array (matrix).\n",
        "a"
      ],
      "metadata": {
        "id": "T3g9O1WNWGYj",
        "colab": {
          "base_uri": "https://localhost:8080/"
        },
        "outputId": "788aa6d4-6b2b-4380-d085-c402e2499dba"
      },
      "execution_count": null,
      "outputs": [
        {
          "output_type": "execute_result",
          "data": {
            "text/plain": [
              "array([[1, 2, 3],\n",
              "       [4, 5, 6],\n",
              "       [7, 8, 9]])"
            ]
          },
          "metadata": {},
          "execution_count": 23
        }
      ]
    },
    {
      "cell_type": "code",
      "source": [
        "a[1]\t\t\t\t# The row 1."
      ],
      "metadata": {
        "colab": {
          "base_uri": "https://localhost:8080/"
        },
        "id": "KeW3-hzbZOIw",
        "outputId": "36ab4d53-b36a-4435-9dc0-8705cd3493b5"
      },
      "execution_count": null,
      "outputs": [
        {
          "output_type": "execute_result",
          "data": {
            "text/plain": [
              "array([4, 5, 6])"
            ]
          },
          "metadata": {},
          "execution_count": 20
        }
      ]
    },
    {
      "cell_type": "code",
      "source": [
        "a[-1]\t\t\t\t# The last row."
      ],
      "metadata": {
        "id": "KuvWBSQMZOLg"
      },
      "execution_count": null,
      "outputs": []
    },
    {
      "cell_type": "code",
      "source": [
        "a[:]\t\t\t\t# The whole array (matrix)."
      ],
      "metadata": {
        "id": "o8n1NcI4ZOOb"
      },
      "execution_count": null,
      "outputs": []
    },
    {
      "cell_type": "code",
      "source": [
        "a[:2]\t\t\t\t# From the row 0 to the row 1 (excluding the row 2)."
      ],
      "metadata": {
        "colab": {
          "base_uri": "https://localhost:8080/"
        },
        "id": "nq092SFtZORF",
        "outputId": "251e52b6-97c5-4aae-f384-d8c0cb82bdc9"
      },
      "execution_count": null,
      "outputs": [
        {
          "output_type": "execute_result",
          "data": {
            "text/plain": [
              "array([[1, 2, 3],\n",
              "       [4, 5, 6]])"
            ]
          },
          "metadata": {},
          "execution_count": 21
        }
      ]
    },
    {
      "cell_type": "code",
      "source": [
        "a[2][1]\t\t\t# The element from the row 2 and the column 1.\t"
      ],
      "metadata": {
        "id": "Fio5oXSPZOWh"
      },
      "execution_count": null,
      "outputs": []
    },
    {
      "cell_type": "code",
      "source": [
        "a[2, 1]\t\t\t# The same as above."
      ],
      "metadata": {
        "id": "0uLyMCkpZOZP"
      },
      "execution_count": null,
      "outputs": []
    },
    {
      "cell_type": "code",
      "source": [
        "a[[0, 2]]\t\t\t# The rows 0 and 2."
      ],
      "metadata": {
        "id": "NJSiJZcEZOb4"
      },
      "execution_count": null,
      "outputs": []
    },
    {
      "cell_type": "code",
      "source": [
        "a[1:, 1:]\t\t\t# From the row 1 to the end. From the column 1 to the end."
      ],
      "metadata": {
        "colab": {
          "base_uri": "https://localhost:8080/"
        },
        "id": "BkjRepl1ZOgQ",
        "outputId": "a209ede4-c158-4183-d58c-2ba790f7611b"
      },
      "execution_count": null,
      "outputs": [
        {
          "output_type": "execute_result",
          "data": {
            "text/plain": [
              "array([[5, 6],\n",
              "       [8, 9]])"
            ]
          },
          "metadata": {},
          "execution_count": 22
        }
      ]
    },
    {
      "cell_type": "code",
      "source": [
        "arr = np.arange(100)\t\t# A sequence from 0 to 99."
      ],
      "metadata": {
        "id": "M1EqzbuPZOl9"
      },
      "execution_count": null,
      "outputs": []
    },
    {
      "cell_type": "code",
      "source": [
        "arrMask = ((arr % 5) == 0) \t\t# A Boolean array. True if multiple of 5, else False.\n",
        "arr[arrMask]\t\t\t# Apply fancy indexing. "
      ],
      "metadata": {
        "colab": {
          "base_uri": "https://localhost:8080/"
        },
        "id": "Cix0qMLDZ5Z4",
        "outputId": "0045c7bf-5afd-447c-b178-fa90fa726a7e"
      },
      "execution_count": null,
      "outputs": [
        {
          "output_type": "execute_result",
          "data": {
            "text/plain": [
              "array([ 0,  5, 10, 15, 20, 25, 30, 35, 40, 45, 50, 55, 60, 65, 70, 75, 80,\n",
              "       85, 90, 95])"
            ]
          },
          "metadata": {},
          "execution_count": 26
        }
      ]
    },
    {
      "cell_type": "code",
      "source": [
        "arrMask = ( ( (arr % 5) == 0 )  & ( arr >0) )\t# A Boolean array. True if multiple of 5 or 0, else False. \n",
        "arr[arrMask]\t\t\t# Apply fancy indexing."
      ],
      "metadata": {
        "colab": {
          "base_uri": "https://localhost:8080/"
        },
        "id": "0O-01pYCZ5eT",
        "outputId": "62b2cad1-8239-4301-8430-12376e6eceaf"
      },
      "execution_count": null,
      "outputs": [
        {
          "output_type": "execute_result",
          "data": {
            "text/plain": [
              "array([ 5, 10, 15, 20, 25, 30, 35, 40, 45, 50, 55, 60, 65, 70, 75, 80, 85,\n",
              "       90, 95])"
            ]
          },
          "metadata": {},
          "execution_count": 27
        }
      ]
    },
    {
      "cell_type": "code",
      "source": [
        "a.size\t\t\t\t # The total number of elements."
      ],
      "metadata": {
        "colab": {
          "base_uri": "https://localhost:8080/"
        },
        "id": "UYLN3BnFZ5iO",
        "outputId": "582db3ee-1a26-484b-f6fa-aa214b43f216"
      },
      "execution_count": null,
      "outputs": [
        {
          "output_type": "execute_result",
          "data": {
            "text/plain": [
              "9"
            ]
          },
          "metadata": {},
          "execution_count": 29
        }
      ]
    },
    {
      "cell_type": "code",
      "source": [
        "a.shape\t\t\t\t # The shape: number of rows and columns."
      ],
      "metadata": {
        "colab": {
          "base_uri": "https://localhost:8080/"
        },
        "id": "AdYd14VAZ5mG",
        "outputId": "2ffa33c0-85fb-4489-9f25-f575e66653dd"
      },
      "execution_count": null,
      "outputs": [
        {
          "output_type": "execute_result",
          "data": {
            "text/plain": [
              "(3, 3)"
            ]
          },
          "metadata": {},
          "execution_count": 30
        }
      ]
    },
    {
      "cell_type": "code",
      "source": [
        "a.ndim\t\t\t\t # The number of dimensions."
      ],
      "metadata": {
        "colab": {
          "base_uri": "https://localhost:8080/"
        },
        "id": "UKZdzsNTZ5pw",
        "outputId": "09637090-ed10-45a7-cb7c-9c84bec0100d"
      },
      "execution_count": null,
      "outputs": [
        {
          "output_type": "execute_result",
          "data": {
            "text/plain": [
              "2"
            ]
          },
          "metadata": {},
          "execution_count": 31
        }
      ]
    },
    {
      "cell_type": "code",
      "source": [
        "a = np.arange(15)\t\t\t # A sequence from 0 to 14. A 1D array.\n",
        "a"
      ],
      "metadata": {
        "colab": {
          "base_uri": "https://localhost:8080/"
        },
        "id": "2iQIFn2uZ5s-",
        "outputId": "4b1f7663-6c76-4221-bcf9-6b5a1b318576"
      },
      "execution_count": null,
      "outputs": [
        {
          "output_type": "execute_result",
          "data": {
            "text/plain": [
              "array([ 0,  1,  2,  3,  4,  5,  6,  7,  8,  9, 10, 11, 12, 13, 14])"
            ]
          },
          "metadata": {},
          "execution_count": 44
        }
      ]
    },
    {
      "cell_type": "code",
      "source": [
        "a.reshape(3,5)\t\t\t # Reshape it as a 3 x 5 matrix (2D array). This is just a view."
      ],
      "metadata": {
        "colab": {
          "base_uri": "https://localhost:8080/"
        },
        "id": "fZi5rOGCZ5wg",
        "outputId": "edf2bc38-5798-4c37-ba1b-691e5844c0f2"
      },
      "execution_count": null,
      "outputs": [
        {
          "output_type": "execute_result",
          "data": {
            "text/plain": [
              "array([[ 0,  1,  2,  3,  4],\n",
              "       [ 5,  6,  7,  8,  9],\n",
              "       [10, 11, 12, 13, 14]])"
            ]
          },
          "metadata": {},
          "execution_count": 45
        }
      ]
    },
    {
      "cell_type": "code",
      "source": [
        "a"
      ],
      "metadata": {
        "colab": {
          "base_uri": "https://localhost:8080/"
        },
        "id": "QyAp0sIoZ5z7",
        "outputId": "ce596153-5a6b-4554-e3b7-a865829342fe"
      },
      "execution_count": null,
      "outputs": [
        {
          "output_type": "execute_result",
          "data": {
            "text/plain": [
              "array([ 0,  1,  2,  3,  4,  5,  6,  7,  8,  9, 10, 11, 12, 13, 14])"
            ]
          },
          "metadata": {},
          "execution_count": 46
        }
      ]
    },
    {
      "cell_type": "code",
      "source": [
        "a.shape = (3, 5)\t\t\t# Change directly the 'shape' attribute. \n",
        "a\t\t\t\t# The reshaping is now permanent"
      ],
      "metadata": {
        "colab": {
          "base_uri": "https://localhost:8080/"
        },
        "id": "hqq55aivZ53V",
        "outputId": "5649c8c1-604f-4520-c9a9-f2a2c54d7a15"
      },
      "execution_count": null,
      "outputs": [
        {
          "output_type": "execute_result",
          "data": {
            "text/plain": [
              "array([[ 0,  1,  2,  3,  4],\n",
              "       [ 5,  6,  7,  8,  9],\n",
              "       [10, 11, 12, 13, 14]])"
            ]
          },
          "metadata": {},
          "execution_count": 37
        }
      ]
    },
    {
      "cell_type": "code",
      "source": [
        "a = np.array([2,5,1,3])\t\t\t # This is a 1D array (rank 1).\n",
        "a.shape"
      ],
      "metadata": {
        "colab": {
          "base_uri": "https://localhost:8080/"
        },
        "id": "CrXo9JYNZ56-",
        "outputId": "8853ce0d-3e37-4c55-c12c-5050598e2385"
      },
      "execution_count": null,
      "outputs": [
        {
          "output_type": "execute_result",
          "data": {
            "text/plain": [
              "(4,)"
            ]
          },
          "metadata": {},
          "execution_count": 47
        }
      ]
    },
    {
      "cell_type": "code",
      "source": [
        "a = a.reshape(4,1)\t\t\t# After reshaping, 'a' is reassigned.\n",
        "a        # Now, a single column matrix."
      ],
      "metadata": {
        "colab": {
          "base_uri": "https://localhost:8080/"
        },
        "id": "UCc7zU1nZ6AA",
        "outputId": "9ae9bbdf-c6f0-4c51-d8c0-97eb99a4b5b2"
      },
      "execution_count": null,
      "outputs": [
        {
          "output_type": "execute_result",
          "data": {
            "text/plain": [
              "array([[2],\n",
              "       [5],\n",
              "       [1],\n",
              "       [3]])"
            ]
          },
          "metadata": {},
          "execution_count": 49
        }
      ]
    },
    {
      "cell_type": "code",
      "source": [
        "a.shape\t\t\t# The reshaping is permanent."
      ],
      "metadata": {
        "colab": {
          "base_uri": "https://localhost:8080/"
        },
        "id": "5NCkvFtlZ6DK",
        "outputId": "bd45abc6-a36f-4b14-873d-e697fa4967b0"
      },
      "execution_count": null,
      "outputs": [
        {
          "output_type": "execute_result",
          "data": {
            "text/plain": [
              "(4, 1)"
            ]
          },
          "metadata": {},
          "execution_count": 50
        }
      ]
    },
    {
      "cell_type": "code",
      "source": [
        "a = np.arange(10)\t\t\t # A sequence from 0 to 9. A 1D array (rank 1).\n",
        "b = a.reshape(2,5)\t\t\t # Reshape as 2 x 5 then assign to 'b'.\n",
        "a[0] = -999\n",
        "b         # You can see that 'a' and 'b' share the same memory space!"
      ],
      "metadata": {
        "colab": {
          "base_uri": "https://localhost:8080/"
        },
        "id": "EVZTd92aZ6GI",
        "outputId": "e64c38ee-c470-49c5-caed-4c71b7af6333"
      },
      "execution_count": null,
      "outputs": [
        {
          "output_type": "execute_result",
          "data": {
            "text/plain": [
              "array([[-999,    1,    2,    3,    4],\n",
              "       [   5,    6,    7,    8,    9]])"
            ]
          },
          "metadata": {},
          "execution_count": 52
        }
      ]
    },
    {
      "cell_type": "code",
      "source": [
        "c = a.reshape(2,5).copy()\t\t# Now, make a shallow copy.\n",
        "c[0, 0] = 0\n",
        "a"
      ],
      "metadata": {
        "colab": {
          "base_uri": "https://localhost:8080/"
        },
        "id": "ug7PCnJfZ6Jh",
        "outputId": "fc94607b-de42-4e7b-cdb6-d6aab67bdce8"
      },
      "execution_count": null,
      "outputs": [
        {
          "output_type": "execute_result",
          "data": {
            "text/plain": [
              "array([-999,    1,    2,    3,    4,    5,    6,    7,    8,    9])"
            ]
          },
          "metadata": {},
          "execution_count": 53
        }
      ]
    },
    {
      "cell_type": "code",
      "source": [
        "a = np.array([1, 2, 3])\t\t# A 1D array (rank 1).\n",
        "b = np.append(a, [4, 5, 6])\t\t# Append new values and create a new array object.\n",
        "b"
      ],
      "metadata": {
        "colab": {
          "base_uri": "https://localhost:8080/"
        },
        "id": "OG3bx4NvZ6M1",
        "outputId": "69678606-f2c4-4bcb-d2df-64193adbc7ae"
      },
      "execution_count": null,
      "outputs": [
        {
          "output_type": "execute_result",
          "data": {
            "text/plain": [
              "array([1, 2, 3, 4, 5, 6])"
            ]
          },
          "metadata": {},
          "execution_count": 58
        }
      ]
    },
    {
      "cell_type": "code",
      "source": [
        "a = np.array([[1, 2], [3, 4]])        \t\t# A 2D array.\n",
        "b = np.append(a, [[9, 9]], axis=0)      \t# Append a row and create a new array object.\n",
        "b"
      ],
      "metadata": {
        "colab": {
          "base_uri": "https://localhost:8080/"
        },
        "id": "1ZBl50rCZ6Pf",
        "outputId": "cb599dc9-dc1e-4cda-d1c4-cfb8006ec00c"
      },
      "execution_count": null,
      "outputs": [
        {
          "output_type": "execute_result",
          "data": {
            "text/plain": [
              "array([[1, 2],\n",
              "       [3, 4],\n",
              "       [9, 9]])"
            ]
          },
          "metadata": {},
          "execution_count": 62
        }
      ]
    },
    {
      "cell_type": "code",
      "source": [
        "c = np.append(a, [[9], [9]] , axis=1)\t    # Append a column and create a new array object.\n",
        "c"
      ],
      "metadata": {
        "colab": {
          "base_uri": "https://localhost:8080/"
        },
        "id": "nVYOxPpKdFKn",
        "outputId": "02ca2295-33c4-4133-dc66-1a05bde5c7f9"
      },
      "execution_count": null,
      "outputs": [
        {
          "output_type": "execute_result",
          "data": {
            "text/plain": [
              "array([[1, 2, 9],\n",
              "       [3, 4, 9]])"
            ]
          },
          "metadata": {},
          "execution_count": 63
        }
      ]
    },
    {
      "cell_type": "code",
      "source": [
        "a = np.array([[1, 2, 3],[4, 5, 6]])\n",
        "np.delete(a, 0)\t\t\t # Delete the element at position 0. Just a view."
      ],
      "metadata": {
        "colab": {
          "base_uri": "https://localhost:8080/"
        },
        "id": "-5z6YE2kdQXw",
        "outputId": "aacb528d-78bb-41d6-f46a-e256bceb0524"
      },
      "execution_count": null,
      "outputs": [
        {
          "output_type": "execute_result",
          "data": {
            "text/plain": [
              "array([2, 3, 4, 5, 6])"
            ]
          },
          "metadata": {},
          "execution_count": 64
        }
      ]
    },
    {
      "cell_type": "code",
      "source": [
        "a"
      ],
      "metadata": {
        "colab": {
          "base_uri": "https://localhost:8080/"
        },
        "id": "oXmaupTWdQbw",
        "outputId": "93a8955c-32eb-45b8-e1f6-167525e32a7c"
      },
      "execution_count": null,
      "outputs": [
        {
          "output_type": "execute_result",
          "data": {
            "text/plain": [
              "array([[1, 2, 3],\n",
              "       [4, 5, 6]])"
            ]
          },
          "metadata": {},
          "execution_count": 65
        }
      ]
    },
    {
      "cell_type": "code",
      "source": [
        "np.delete(a, (0, 2, 4))\t\t# Delete the elements at positions 0, 2 and 4. Just a view."
      ],
      "metadata": {
        "colab": {
          "base_uri": "https://localhost:8080/"
        },
        "id": "WxC7MmM8dQfr",
        "outputId": "f424258f-8b12-418b-f544-2216c3c37cdb"
      },
      "execution_count": null,
      "outputs": [
        {
          "output_type": "execute_result",
          "data": {
            "text/plain": [
              "array([2, 4, 6])"
            ]
          },
          "metadata": {},
          "execution_count": 66
        }
      ]
    },
    {
      "cell_type": "code",
      "source": [
        "np.delete(a, 0, axis = 0)\t\t# Delete the row 0. Just a view. "
      ],
      "metadata": {
        "id": "Dy11griAdQm9"
      },
      "execution_count": null,
      "outputs": []
    },
    {
      "cell_type": "code",
      "source": [
        "np.delete(a, 1, axis = 1)\t\t# Delete the column 1. Just a view."
      ],
      "metadata": {
        "id": "XaYaSNwSdfpz"
      },
      "execution_count": null,
      "outputs": []
    },
    {
      "cell_type": "markdown",
      "source": [
        "## Time for Coding Exercise **'ex_0201.ipynb'** "
      ],
      "metadata": {
        "id": "88jxKUrIdjN8"
      }
    }
  ]
}