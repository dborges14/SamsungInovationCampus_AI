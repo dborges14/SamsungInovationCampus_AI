{
 "cells": [
  {
   "cell_type": "markdown",
   "metadata": {},
   "source": [
    "## Coding Practice #0210"
   ]
  },
  {
   "cell_type": "markdown",
   "metadata": {},
   "source": [
    "### 1. Matplotlib visualization with objects:"
   ]
  },
  {
   "cell_type": "code",
   "execution_count": null,
   "metadata": {},
   "outputs": [],
   "source": [
    "import matplotlib.pyplot as plt\n",
    "import numpy as np\n",
    "%matplotlib inline"
   ]
  },
  {
   "cell_type": "markdown",
   "metadata": {},
   "source": [
    "#### 1.1. Visualization with figure object:"
   ]
  },
  {
   "cell_type": "code",
   "execution_count": null,
   "metadata": {},
   "outputs": [],
   "source": [
    "x = np.linspace(0,10,100)\n",
    "y = np.sin(x)\n",
    "z = np.cos(x)"
   ]
  },
  {
   "cell_type": "code",
   "execution_count": null,
   "metadata": {},
   "outputs": [],
   "source": [
    "fig0=plt.figure()\n",
    "axes0 = fig0.add_axes([0,0,1,1])             # Left, bottom, width, height.\n",
    "axes0.plot(x,y,color='red',linestyle='-')\n",
    "axes0.set_xlabel('X')\n",
    "axes0.set_ylabel('Y')\n",
    "axes0.set_title('LINE PLOT')\n",
    "plt.show()"
   ]
  },
  {
   "cell_type": "code",
   "execution_count": null,
   "metadata": {},
   "outputs": [],
   "source": [
    "fig0=plt.figure()\n",
    "axes0 = fig0.add_axes([0,0,1,1])             # Left, bottom, width, height.\n",
    "axes0.plot(x,y,color='purple',linestyle='-')\n",
    "axes0.set_xlabel('X')\n",
    "axes0.set_ylabel('Y')\n",
    "axes0.set_title('LINE PLOT')\n",
    "axes0.set_xlim([0,5])                        # Horizontal axis limits.\n",
    "axes0.set_ylim([-2,2])                       # Vertical axis limits.\n",
    "plt.show()"
   ]
  },
  {
   "cell_type": "markdown",
   "metadata": {},
   "source": [
    "Specify the width and height with 'figsize' argument:"
   ]
  },
  {
   "cell_type": "code",
   "execution_count": null,
   "metadata": {},
   "outputs": [],
   "source": [
    "fig0=plt.figure(figsize=(10,1))              # Width and height specified with figsize.\n",
    "axes0 = fig0.add_axes([0,0,1,1])             # Left, bottom, width, height.\n",
    "axes0.plot(x,y,color='red',linestyle='-')\n",
    "axes0.set_xlabel('X')\n",
    "axes0.set_ylabel('Y')\n",
    "axes0.set_title('LINE PLOT')\n",
    "plt.show()"
   ]
  },
  {
   "cell_type": "markdown",
   "metadata": {},
   "source": [
    "#### 1.2. Multiple plots within the same axes:"
   ]
  },
  {
   "cell_type": "code",
   "execution_count": null,
   "metadata": {},
   "outputs": [],
   "source": [
    "fig0=plt.figure(figsize=(5,2), dpi=100)      # Width, height and DPI setting.\n",
    "axes0 = fig0.add_axes([0,0,1,1])             # Left, bottom, width, height.\n",
    "axes0.plot(x,y,color='orange',linestyle='--', label='Sin')           # 'label' for the legend.\n",
    "axes0.plot(x,z,color='purple',linestyle='-.', label='Cos')        # 'label' for the legend.\n",
    "axes0.legend(loc=0)                                             # Legend to be locted at the top-right corner.\n",
    "axes0.set_xlabel('X')\n",
    "axes0.set_ylabel('Y')\n",
    "axes0.set_title('LINE PLOT')\n",
    "plt.show()"
   ]
  },
  {
   "cell_type": "markdown",
   "metadata": {},
   "source": [
    "Output to an external file:"
   ]
  },
  {
   "cell_type": "code",
   "execution_count": null,
   "metadata": {},
   "outputs": [],
   "source": [
    "fig0.savefig('my_fig_01.png')"
   ]
  },
  {
   "cell_type": "markdown",
   "metadata": {},
   "source": [
    "#### 1.3. Multiple plots in separate axes:"
   ]
  },
  {
   "cell_type": "code",
   "execution_count": null,
   "metadata": {},
   "outputs": [],
   "source": [
    "fig0=plt.figure(figsize=(8,3), dpi=80)       # Width, height and DPI setting.\n",
    "axes1 = fig0.add_axes([0,0,0.3,1])            # Left, bottom, width, height.\n",
    "axes2 = fig0.add_axes([0.5,0,0.3,1])          # Left, bottom, width, height.\n",
    "axes1.plot(x,y,color='red',linestyle=':')  \n",
    "axes2.plot(x,z,color='blue',linestyle='-.')\n",
    "axes1.set_xlabel('X')\n",
    "axes1.set_ylabel('Y')\n",
    "axes1.set_title('SINE')\n",
    "axes2.set_xlabel('X')\n",
    "axes2.set_ylabel('Y')\n",
    "axes2.set_title('COSINE')\n",
    "plt.show()"
   ]
  },
  {
   "cell_type": "code",
   "execution_count": null,
   "metadata": {},
   "outputs": [],
   "source": [
    "fig0=plt.figure(figsize=(8,4), dpi=80)          # Width, height and DPI setting.\n",
    "axes1 = fig0.add_axes([0,0.5,0.2,0.5])           # Left, bottom, width, height.\n",
    "axes2 = fig0.add_axes([0.5,0,0.2,0.5])           # Left, bottom, width, height.\n",
    "axes1.plot(x,z,linestyle='none',marker='^',markersize=10,markerfacecolor='purple',markeredgecolor='red',alpha=0.5)\n",
    "axes2.plot(x,y,color='blue',linestyle='--')  \n",
    "axes1.set_xlabel('X')\n",
    "axes1.set_ylabel('Y')\n",
    "axes1.set_title('COSINE')\n",
    "axes2.set_xlabel('X')\n",
    "axes2.set_ylabel('Y')\n",
    "axes2.set_title('SINE')\n",
    "plt.show()"
   ]
  },
  {
   "cell_type": "markdown",
   "metadata": {},
   "source": [
    "#### 1.4. Multiple plots in an array of axes:"
   ]
  },
  {
   "cell_type": "code",
   "execution_count": null,
   "metadata": {},
   "outputs": [],
   "source": [
    "fig, axes = plt.subplots(nrows=2, ncols=2, figsize=(6,6))\n",
    "# (0,0)\n",
    "c = np.random.randn(10000)\n",
    "axes[0,0].hist(c,bins=100,color='green',density=True,alpha=0.3)\n",
    "axes[0,0].set_title('HISTOGRAM')\n",
    "# (1,0)\n",
    "axes[1,0].plot(x,z,linestyle='none',marker='^',markersize=10,markerfacecolor='purple',markeredgecolor='red',alpha=0.5)\n",
    "axes[1,0].set_xlabel('X')\n",
    "axes[1,0].set_ylabel('Y')\n",
    "axes[1,0].set_title('COSINE')\n",
    "# (0,1)\n",
    "a = np.array(['Q1', 'Q2', 'Q3','Q4'])\n",
    "b = np.array([ 234.0, 254.7, 144.6, 317.6])\n",
    "axes[0,1].bar(a,b,color='blue',alpha=0.5)\n",
    "axes[0,1].set_title('BAR PLOT')\n",
    "# (1,1)\n",
    "axes[1,1].plot(x,y,color='green',linestyle=':')  \n",
    "axes[1,1].set_xlabel('X')\n",
    "axes[1,1].set_ylabel('Y')\n",
    "axes[1,1].set_title('SINE')\n",
    "\n",
    "plt.tight_layout()                             # Avoid overlapping.\n",
    "plt.show()"
   ]
  },
  {
   "cell_type": "markdown",
   "metadata": {},
   "source": [
    "Output to an external file:"
   ]
  },
  {
   "cell_type": "code",
   "execution_count": null,
   "metadata": {},
   "outputs": [],
   "source": [
    "fig.savefig('my_fig_02.png')                           "
   ]
  }
 ],
 "metadata": {
  "kernelspec": {
   "display_name": "Python 3",
   "language": "python",
   "name": "python3"
  },
  "language_info": {
   "codemirror_mode": {
    "name": "ipython",
    "version": 3
   },
   "file_extension": ".py",
   "mimetype": "text/x-python",
   "name": "python",
   "nbconvert_exporter": "python",
   "pygments_lexer": "ipython3",
   "version": "3.7.3"
  }
 },
 "nbformat": 4,
 "nbformat_minor": 2
}
