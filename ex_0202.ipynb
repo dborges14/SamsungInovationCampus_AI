{
  "cells": [
    {
      "cell_type": "markdown",
      "metadata": {
        "id": "view-in-github",
        "colab_type": "text"
      },
      "source": [
        "<a href=\"https://colab.research.google.com/github/dborges14/SamsungInovationCampus_AI/blob/main/ex_0202.ipynb\" target=\"_parent\"><img src=\"https://colab.research.google.com/assets/colab-badge.svg\" alt=\"Open In Colab\"/></a>"
      ]
    },
    {
      "cell_type": "markdown",
      "metadata": {
        "id": "5SFxCW8l3bm3"
      },
      "source": [
        "## Coding Exercise #0202"
      ]
    },
    {
      "cell_type": "markdown",
      "metadata": {
        "id": "mISdhpNQ3bm-"
      },
      "source": [
        "### 1. NumPy array operations:"
      ]
    },
    {
      "cell_type": "markdown",
      "metadata": {
        "id": "IRFLI_zl3bnA"
      },
      "source": [
        "#### 1.1. '+' and '*' operators for Python lists:"
      ]
    },
    {
      "cell_type": "code",
      "execution_count": null,
      "metadata": {
        "id": "sYHQEcYf3bnB"
      },
      "outputs": [],
      "source": [
        "import numpy as np"
      ]
    },
    {
      "cell_type": "code",
      "execution_count": null,
      "metadata": {
        "id": "l4giFTPi3bnD"
      },
      "outputs": [],
      "source": [
        "a = [1, 2, 3]"
      ]
    },
    {
      "cell_type": "code",
      "execution_count": null,
      "metadata": {
        "id": "lZrFOvON3bnE"
      },
      "outputs": [],
      "source": [
        "a + a"
      ]
    },
    {
      "cell_type": "code",
      "execution_count": null,
      "metadata": {
        "id": "ycsG3Yk_3bnF"
      },
      "outputs": [],
      "source": [
        "a*3"
      ]
    },
    {
      "cell_type": "code",
      "execution_count": null,
      "metadata": {
        "id": "DCILfFcw3bnG"
      },
      "outputs": [],
      "source": [
        "b = np.array([1, 2, 3])"
      ]
    },
    {
      "cell_type": "code",
      "execution_count": null,
      "metadata": {
        "id": "Lbvin1Rn3bnH"
      },
      "outputs": [],
      "source": [
        "b*3"
      ]
    },
    {
      "cell_type": "code",
      "execution_count": null,
      "metadata": {
        "id": "n8vLn9hJ3bnJ"
      },
      "outputs": [],
      "source": [
        "b + b"
      ]
    },
    {
      "cell_type": "code",
      "execution_count": null,
      "metadata": {
        "id": "QftOxYe03bnK"
      },
      "outputs": [],
      "source": [
        "np.repeat(b, 3)"
      ]
    },
    {
      "cell_type": "markdown",
      "metadata": {
        "id": "pFKAT7853bnL"
      },
      "source": [
        "#### 1.2. '+' and '*' operators for NumPy arrays:"
      ]
    },
    {
      "cell_type": "code",
      "execution_count": null,
      "metadata": {
        "id": "9nFsKsOB3bnM"
      },
      "outputs": [],
      "source": [
        "a = np.array([1, 2, 3])\n",
        "b = np.array([4, 5, 6])"
      ]
    },
    {
      "cell_type": "code",
      "execution_count": null,
      "metadata": {
        "id": "AQ7mb4PA3bnN"
      },
      "outputs": [],
      "source": [
        "a+b"
      ]
    },
    {
      "cell_type": "code",
      "execution_count": null,
      "metadata": {
        "id": "2O5TzEQw3bnN"
      },
      "outputs": [],
      "source": [
        "a-b"
      ]
    },
    {
      "cell_type": "code",
      "execution_count": null,
      "metadata": {
        "id": "1VKatqZf3bnO"
      },
      "outputs": [],
      "source": [
        "a*b"
      ]
    },
    {
      "cell_type": "code",
      "execution_count": null,
      "metadata": {
        "id": "pUTBPuGv3bnP"
      },
      "outputs": [],
      "source": [
        "1.0*a/b"
      ]
    },
    {
      "cell_type": "markdown",
      "metadata": {
        "id": "LACWb0XE3bnP"
      },
      "source": [
        "#### 1.3. Universal functions:"
      ]
    },
    {
      "cell_type": "code",
      "execution_count": null,
      "metadata": {
        "id": "kPYE9io93bnQ"
      },
      "outputs": [],
      "source": [
        "x = np.array([0, 1, 2, 3, 4, 5])"
      ]
    },
    {
      "cell_type": "code",
      "execution_count": null,
      "metadata": {
        "id": "aRHThofD3bnQ"
      },
      "outputs": [],
      "source": [
        "np.sqrt(x)"
      ]
    },
    {
      "cell_type": "code",
      "execution_count": null,
      "metadata": {
        "id": "bV0o44Fd3bnQ"
      },
      "outputs": [],
      "source": [
        "np.exp(x)"
      ]
    },
    {
      "cell_type": "code",
      "execution_count": null,
      "metadata": {
        "id": "akeLocW43bnR"
      },
      "outputs": [],
      "source": [
        "type(np.sqrt)"
      ]
    },
    {
      "cell_type": "code",
      "execution_count": null,
      "metadata": {
        "id": "yH0K8YIO3bnR"
      },
      "outputs": [],
      "source": [
        "type(np.exp)"
      ]
    },
    {
      "cell_type": "markdown",
      "metadata": {
        "id": "9xdkx_Dg3bnR"
      },
      "source": [
        "#### 1.4. NumPy functions:"
      ]
    },
    {
      "cell_type": "code",
      "execution_count": null,
      "metadata": {
        "id": "UpQI7jPs3bnS"
      },
      "outputs": [],
      "source": [
        "np.random.seed(123)\n",
        "a = np.random.randint(1, 11, size=1000)"
      ]
    },
    {
      "cell_type": "code",
      "execution_count": null,
      "metadata": {
        "id": "aeKFYrjr3bnS"
      },
      "outputs": [],
      "source": [
        "np.unique(a)"
      ]
    },
    {
      "cell_type": "code",
      "execution_count": null,
      "metadata": {
        "id": "960PxJwX3bnS"
      },
      "outputs": [],
      "source": [
        "np.median(a)"
      ]
    },
    {
      "cell_type": "code",
      "execution_count": null,
      "metadata": {
        "id": "N7qhj_Vh3bnS"
      },
      "outputs": [],
      "source": [
        "np.sum(a)"
      ]
    },
    {
      "cell_type": "code",
      "execution_count": null,
      "metadata": {
        "id": "MMdmC4Pi3bnT"
      },
      "outputs": [],
      "source": [
        "np.round(np.var(a),2)"
      ]
    },
    {
      "cell_type": "code",
      "execution_count": null,
      "metadata": {
        "id": "wZeSS5zw3bnT"
      },
      "outputs": [],
      "source": [
        "np.round(np.mean(a),2)"
      ]
    },
    {
      "cell_type": "code",
      "execution_count": null,
      "metadata": {
        "id": "yFq7uhNS3bnT"
      },
      "outputs": [],
      "source": [
        "np.round(np.std(a),2)"
      ]
    },
    {
      "cell_type": "code",
      "execution_count": null,
      "metadata": {
        "id": "tootakJn3bnU"
      },
      "outputs": [],
      "source": [
        "np.max(a)"
      ]
    },
    {
      "cell_type": "code",
      "execution_count": null,
      "metadata": {
        "id": "XOgGHZh63bnU"
      },
      "outputs": [],
      "source": [
        "np.min(a)"
      ]
    },
    {
      "cell_type": "markdown",
      "metadata": {
        "id": "bJ4ioQb53bnU"
      },
      "source": [
        "#### 1.5. Statistical methods of NumPy arrays:"
      ]
    },
    {
      "cell_type": "code",
      "execution_count": null,
      "metadata": {
        "id": "m6eJtFN63bnU"
      },
      "outputs": [],
      "source": [
        "x=np.arange(1,11)"
      ]
    },
    {
      "cell_type": "code",
      "execution_count": null,
      "metadata": {
        "id": "7h1Hs_6w3bnV"
      },
      "outputs": [],
      "source": [
        "x.sum()"
      ]
    },
    {
      "cell_type": "code",
      "execution_count": null,
      "metadata": {
        "id": "Aei-oLoe3bnV"
      },
      "outputs": [],
      "source": [
        "x.mean()"
      ]
    },
    {
      "cell_type": "code",
      "execution_count": null,
      "metadata": {
        "id": "Dnr3p5jh3bnV"
      },
      "outputs": [],
      "source": [
        "x.std()"
      ]
    },
    {
      "cell_type": "code",
      "execution_count": null,
      "metadata": {
        "id": "2LqdgXOc3bnV"
      },
      "outputs": [],
      "source": [
        "x.var()"
      ]
    },
    {
      "cell_type": "code",
      "execution_count": null,
      "metadata": {
        "id": "FIztkUB23bnW"
      },
      "outputs": [],
      "source": [
        "x.cumsum()"
      ]
    },
    {
      "cell_type": "code",
      "execution_count": null,
      "metadata": {
        "id": "TNo_jW523bnW"
      },
      "outputs": [],
      "source": [
        "y = np.arange(1,10)\n",
        "y = y.reshape((3,-1))\n",
        "print(y)"
      ]
    },
    {
      "cell_type": "code",
      "execution_count": null,
      "metadata": {
        "id": "touWJ7y-3bnW"
      },
      "outputs": [],
      "source": [
        "print(y.mean(axis=0))"
      ]
    },
    {
      "cell_type": "code",
      "execution_count": null,
      "metadata": {
        "id": "PM4ENNY43bnX"
      },
      "outputs": [],
      "source": [
        "print(y.mean(axis=1))"
      ]
    },
    {
      "cell_type": "code",
      "execution_count": null,
      "metadata": {
        "id": "Mr6DToJc3bnX"
      },
      "outputs": [],
      "source": [
        "z = np.random.randint(10,size=1000)"
      ]
    },
    {
      "cell_type": "code",
      "execution_count": null,
      "metadata": {
        "id": "zyODAsjl3bnX"
      },
      "outputs": [],
      "source": [
        "z.max()"
      ]
    },
    {
      "cell_type": "code",
      "execution_count": null,
      "metadata": {
        "id": "_jOJOMqO3bnX"
      },
      "outputs": [],
      "source": [
        "z.min()"
      ]
    },
    {
      "cell_type": "code",
      "execution_count": null,
      "metadata": {
        "id": "b_5OvgF_3bnX"
      },
      "outputs": [],
      "source": [
        "(z > 5).sum()"
      ]
    },
    {
      "cell_type": "code",
      "execution_count": null,
      "metadata": {
        "id": "IT0bGQpY3bnY"
      },
      "outputs": [],
      "source": [
        "np.unique(z)"
      ]
    },
    {
      "cell_type": "code",
      "execution_count": null,
      "metadata": {
        "id": "sg_kC9im3bnY"
      },
      "outputs": [],
      "source": [
        "sorted(set(z))"
      ]
    },
    {
      "cell_type": "code",
      "execution_count": null,
      "metadata": {
        "id": "m6dD9X9l3bnY"
      },
      "outputs": [],
      "source": [
        "a = np.array([2,-3,4,5,7,0,1,-1])"
      ]
    },
    {
      "cell_type": "code",
      "execution_count": null,
      "metadata": {
        "id": "kWdXmLIz3bnZ"
      },
      "outputs": [],
      "source": [
        "a.argmax()"
      ]
    },
    {
      "cell_type": "code",
      "execution_count": null,
      "metadata": {
        "id": "SLov0QTe3bnZ"
      },
      "outputs": [],
      "source": [
        "a.argmin()"
      ]
    },
    {
      "cell_type": "code",
      "execution_count": null,
      "metadata": {
        "id": "wruAwy303bnZ"
      },
      "outputs": [],
      "source": [
        ""
      ]
    }
  ],
  "metadata": {
    "kernelspec": {
      "display_name": "Python 3",
      "language": "python",
      "name": "python3"
    },
    "language_info": {
      "codemirror_mode": {
        "name": "ipython",
        "version": 3
      },
      "file_extension": ".py",
      "mimetype": "text/x-python",
      "name": "python",
      "nbconvert_exporter": "python",
      "pygments_lexer": "ipython3",
      "version": "3.7.3"
    },
    "colab": {
      "name": "ex_0202.ipynb",
      "provenance": [],
      "include_colab_link": true
    }
  },
  "nbformat": 4,
  "nbformat_minor": 0
}