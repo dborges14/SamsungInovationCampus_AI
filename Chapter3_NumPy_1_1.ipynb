{
  "nbformat": 4,
  "nbformat_minor": 0,
  "metadata": {
    "colab": {
      "name": "Chapter3_NumPy_1.1.ipynb",
      "provenance": [],
      "collapsed_sections": [],
      "include_colab_link": true
    },
    "kernelspec": {
      "name": "python3",
      "display_name": "Python 3"
    },
    "language_info": {
      "name": "python"
    }
  },
  "cells": [
    {
      "cell_type": "markdown",
      "metadata": {
        "id": "view-in-github",
        "colab_type": "text"
      },
      "source": [
        "<a href=\"https://colab.research.google.com/github/dborges14/SamsungInovationCampus_AI/blob/main/Chapter3_NumPy_1_1.ipynb\" target=\"_parent\"><img src=\"https://colab.research.google.com/assets/colab-badge.svg\" alt=\"Open In Colab\"/></a>"
      ]
    },
    {
      "cell_type": "markdown",
      "source": [
        "# **NumPy array basics**"
      ],
      "metadata": {
        "id": "IdbD-s-Mb9V2"
      }
    },
    {
      "cell_type": "code",
      "execution_count": null,
      "metadata": {
        "colab": {
          "base_uri": "https://localhost:8080/",
          "height": 35
        },
        "id": "jQ0eWsvbvqT9",
        "outputId": "25996b53-5540-4364-ce23-2dd789ed4ecc"
      },
      "outputs": [
        {
          "output_type": "execute_result",
          "data": {
            "application/vnd.google.colaboratory.intrinsic+json": {
              "type": "string"
            },
            "text/plain": [
              "'1.19.5'"
            ]
          },
          "metadata": {},
          "execution_count": 2
        }
      ],
      "source": [
        "import numpy as np    # Import the NumPy package and abbreviate its name as 'np'. \n",
        "np.__version__        # Currently installed NumPy version."
      ]
    },
    {
      "cell_type": "code",
      "source": [
        "arr1 = np.array([1,3,5,7,9])\t\t# Create an array from a list.\n",
        "arr2 = np.array((1,3,5,7,9))\t\t# Create an array from a tuple.\n",
        "arr1"
      ],
      "metadata": {
        "colab": {
          "base_uri": "https://localhost:8080/"
        },
        "id": "ikoyvXpsSVBS",
        "outputId": "92d573ec-8c84-4432-c577-003412d69a3f"
      },
      "execution_count": null,
      "outputs": [
        {
          "output_type": "execute_result",
          "data": {
            "text/plain": [
              "array([1, 3, 5, 7, 9])"
            ]
          },
          "metadata": {},
          "execution_count": 55
        }
      ]
    },
    {
      "cell_type": "code",
      "source": [
        "type(arr2)"
      ],
      "metadata": {
        "id": "J7dPtBoLvrga",
        "colab": {
          "base_uri": "https://localhost:8080/"
        },
        "outputId": "223524f7-4254-42e8-de9f-147c228cdb8d"
      },
      "execution_count": null,
      "outputs": [
        {
          "output_type": "execute_result",
          "data": {
            "text/plain": [
              "numpy.ndarray"
            ]
          },
          "metadata": {},
          "execution_count": 56
        }
      ]
    },
    {
      "cell_type": "code",
      "source": [
        "arr3 = arr1\t\t\t\t\t# Simple assignment."
      ],
      "metadata": {
        "id": "Ln4cXAb5UUkp"
      },
      "execution_count": null,
      "outputs": []
    },
    {
      "cell_type": "code",
      "source": [
        "arr4 = arr1.copy()\t\t\t# Make a shallow copy. \n",
        "print(id(arr1))\n",
        "print(id(arr4))"
      ],
      "metadata": {
        "colab": {
          "base_uri": "https://localhost:8080/"
        },
        "id": "RrJZ8LxPUYDH",
        "outputId": "f9ba9f5c-275a-4e8a-c4ed-b66bf289c3e5"
      },
      "execution_count": null,
      "outputs": [
        {
          "output_type": "stream",
          "name": "stdout",
          "text": [
            "140461720511952\n",
            "140461789136576\n"
          ]
        }
      ]
    },
    {
      "cell_type": "code",
      "source": [
        "arr1 = np.array([111, 2.3,  True, False, False]) \t\t# Numeric and Boolean values entered.\n",
        "arr1\t\t\t\t\t\t\t\t\t# Automatic conversion to the float type."
      ],
      "metadata": {
        "colab": {
          "base_uri": "https://localhost:8080/"
        },
        "id": "OnjTikifU2Jm",
        "outputId": "d2709a0d-432d-4606-eea5-81fb6ce79e83"
      },
      "execution_count": null,
      "outputs": [
        {
          "output_type": "execute_result",
          "data": {
            "text/plain": [
              "array([111. ,   2.3,   1. ,   0. ,   0. ])"
            ]
          },
          "metadata": {},
          "execution_count": 21
        }
      ]
    },
    {
      "cell_type": "code",
      "source": [
        "arr2 = np.array([111, 2.3, 'python', 'abc']) \t\t\t# Numeric and string values entered. \n",
        "arr2\t\t\t\t\t\t\t\t\t# Automatic conversion to the string type."
      ],
      "metadata": {
        "colab": {
          "base_uri": "https://localhost:8080/"
        },
        "id": "wbTAOE2VU-N2",
        "outputId": "2201ecc0-4bcc-471a-f383-f799be7b7117"
      },
      "execution_count": null,
      "outputs": [
        {
          "output_type": "execute_result",
          "data": {
            "text/plain": [
              "array(['111', '2.3', 'python', 'abc'], dtype='<U32')"
            ]
          },
          "metadata": {},
          "execution_count": 22
        }
      ]
    },
    {
      "cell_type": "code",
      "source": [
        "arr3 = np.array([111, True, 'abc']) \t\t\t\t# Numeric, Boolean and string values entered.\n",
        "arr3\t\t\t\t\t\t\t\t\t# Automatic conversion to the string type."
      ],
      "metadata": {
        "colab": {
          "base_uri": "https://localhost:8080/"
        },
        "id": "F0e0fZyQVEJu",
        "outputId": "0769de6b-cb25-49be-f134-0f50ff4beb26"
      },
      "execution_count": null,
      "outputs": [
        {
          "output_type": "execute_result",
          "data": {
            "text/plain": [
              "array(['111', 'True', 'abc'], dtype='<U21')"
            ]
          },
          "metadata": {},
          "execution_count": 23
        }
      ]
    },
    {
      "cell_type": "code",
      "source": [
        "np.arange(10)\t\t\t\t  # Array corresponding to the range 0~9."
      ],
      "metadata": {
        "colab": {
          "base_uri": "https://localhost:8080/"
        },
        "id": "-4PJrbaAV19_",
        "outputId": "ffb96050-8d36-4159-c30d-80a41ab24e96"
      },
      "execution_count": null,
      "outputs": [
        {
          "output_type": "execute_result",
          "data": {
            "text/plain": [
              "array([0, 1, 2, 3, 4, 5, 6, 7, 8, 9])"
            ]
          },
          "metadata": {},
          "execution_count": 24
        }
      ]
    },
    {
      "cell_type": "code",
      "source": [
        "np.arange(10,20)\t\t\t# Array corresponding to the range 10~19."
      ],
      "metadata": {
        "colab": {
          "base_uri": "https://localhost:8080/"
        },
        "id": "9JfUYNhsV9UW",
        "outputId": "b6e996ad-844c-41a3-e5ee-eaa5152e7eae"
      },
      "execution_count": null,
      "outputs": [
        {
          "output_type": "execute_result",
          "data": {
            "text/plain": [
              "array([10, 11, 12, 13, 14, 15, 16, 17, 18, 19])"
            ]
          },
          "metadata": {},
          "execution_count": 25
        }
      ]
    },
    {
      "cell_type": "code",
      "source": [
        "np.arange(10, 20, 3)\t\t\t# Array corresponding to the range10~19, step = 3."
      ],
      "metadata": {
        "id": "Cp6uBsblWFu_"
      },
      "execution_count": null,
      "outputs": []
    },
    {
      "cell_type": "code",
      "source": [
        "arr = np.arange(10) \t\n",
        "len(arr) \t\t \t\t\t\t\t\t# Returns the length. Same as with Python list."
      ],
      "metadata": {
        "colab": {
          "base_uri": "https://localhost:8080/"
        },
        "id": "YBXeSGnCWFxw",
        "outputId": "2337ae32-718c-491f-aa59-d685f59f01bb"
      },
      "execution_count": null,
      "outputs": [
        {
          "output_type": "execute_result",
          "data": {
            "text/plain": [
              "10"
            ]
          },
          "metadata": {},
          "execution_count": 26
        }
      ]
    },
    {
      "cell_type": "code",
      "source": [
        "arr.size                # Attribute 'size' equals the number of elements. "
      ],
      "metadata": {
        "colab": {
          "base_uri": "https://localhost:8080/"
        },
        "id": "-hOmJGl4WF0Z",
        "outputId": "1fb3945e-7bb1-44f0-d7bc-a3828ced060a"
      },
      "execution_count": null,
      "outputs": [
        {
          "output_type": "execute_result",
          "data": {
            "text/plain": [
              "10"
            ]
          },
          "metadata": {},
          "execution_count": 27
        }
      ]
    },
    {
      "cell_type": "code",
      "source": [
        "np.linspace(0, 10, 5)\t\t\t\t\t# Equally spaced 5 numbers between 0 and 10."
      ],
      "metadata": {
        "id": "q4ymNIlMWF3U",
        "colab": {
          "base_uri": "https://localhost:8080/"
        },
        "outputId": "40a0a1e8-921f-429a-c8b6-8b71b0a53138"
      },
      "execution_count": null,
      "outputs": [
        {
          "output_type": "execute_result",
          "data": {
            "text/plain": [
              "array([ 0. ,  2.5,  5. ,  7.5, 10. ])"
            ]
          },
          "metadata": {},
          "execution_count": 3
        }
      ]
    },
    {
      "cell_type": "code",
      "source": [
        "np.zeros(10)   # 10 zeros."
      ],
      "metadata": {
        "id": "MYBBp3u0WF50"
      },
      "execution_count": null,
      "outputs": []
    },
    {
      "cell_type": "code",
      "source": [
        "np.zeros((3,4))\t\t\t\t# The shape is given as a tuple."
      ],
      "metadata": {
        "id": "PHE3l8vWWF8F",
        "colab": {
          "base_uri": "https://localhost:8080/"
        },
        "outputId": "b844a168-17de-4273-f9a0-87761d203861"
      },
      "execution_count": null,
      "outputs": [
        {
          "output_type": "execute_result",
          "data": {
            "text/plain": [
              "array([[0., 0., 0., 0.],\n",
              "       [0., 0., 0., 0.],\n",
              "       [0., 0., 0., 0.]])"
            ]
          },
          "metadata": {},
          "execution_count": 4
        }
      ]
    },
    {
      "cell_type": "code",
      "source": [
        "np.zeros(5, dtype ='int64')\t\t\t# Specified the data type of the elements."
      ],
      "metadata": {
        "id": "TQqzjOuQWF_C",
        "colab": {
          "base_uri": "https://localhost:8080/"
        },
        "outputId": "934f2c0f-41ab-4e1f-bf21-41b1d9106724"
      },
      "execution_count": null,
      "outputs": [
        {
          "output_type": "execute_result",
          "data": {
            "text/plain": [
              "array([0, 0, 0, 0, 0])"
            ]
          },
          "metadata": {},
          "execution_count": 5
        }
      ]
    },
    {
      "cell_type": "code",
      "source": [
        "zeros = np.zeros(5, dtype ='int64')\n",
        "zeros.dtype"
      ],
      "metadata": {
        "id": "3pYcQpeSWGBm",
        "colab": {
          "base_uri": "https://localhost:8080/"
        },
        "outputId": "040f7221-461f-4a1e-9c44-de1e4d82e974"
      },
      "execution_count": null,
      "outputs": [
        {
          "output_type": "execute_result",
          "data": {
            "text/plain": [
              "dtype('int64')"
            ]
          },
          "metadata": {},
          "execution_count": 7
        }
      ]
    },
    {
      "cell_type": "code",
      "source": [
        "arr = np.ones((2,3), dtype ='int_')\t\t # The shape given as a tuple. Data type is specified. \t\n",
        "arr"
      ],
      "metadata": {
        "id": "TinfIUU7WGEI",
        "colab": {
          "base_uri": "https://localhost:8080/"
        },
        "outputId": "7798df17-6173-4b52-a716-ed42e75c6412"
      },
      "execution_count": null,
      "outputs": [
        {
          "output_type": "execute_result",
          "data": {
            "text/plain": [
              "array([[1, 1, 1],\n",
              "       [1, 1, 1]])"
            ]
          },
          "metadata": {},
          "execution_count": 9
        }
      ]
    },
    {
      "cell_type": "code",
      "source": [
        "arr.dtype"
      ],
      "metadata": {
        "id": "czrCkv4uWGG6",
        "colab": {
          "base_uri": "https://localhost:8080/"
        },
        "outputId": "d7988216-2c84-43a6-8f75-d81467986797"
      },
      "execution_count": null,
      "outputs": [
        {
          "output_type": "execute_result",
          "data": {
            "text/plain": [
              "dtype('int64')"
            ]
          },
          "metadata": {},
          "execution_count": 12
        }
      ]
    },
    {
      "cell_type": "code",
      "source": [
        "arr.astype('float32')\t\t # Re-cast the data type as 'float32'."
      ],
      "metadata": {
        "id": "jWlIRn9PWGJR",
        "colab": {
          "base_uri": "https://localhost:8080/"
        },
        "outputId": "445c10b3-5d4f-45c0-c827-8305b37691fb"
      },
      "execution_count": null,
      "outputs": [
        {
          "output_type": "execute_result",
          "data": {
            "text/plain": [
              "array([[1., 1., 1.],\n",
              "       [1., 1., 1.]], dtype=float32)"
            ]
          },
          "metadata": {},
          "execution_count": 13
        }
      ]
    },
    {
      "cell_type": "code",
      "source": [
        "arr.dtype"
      ],
      "metadata": {
        "id": "BrMAI1hFWGMH",
        "colab": {
          "base_uri": "https://localhost:8080/"
        },
        "outputId": "9b86937a-451d-4b45-b7c9-6b2305e9b74b"
      },
      "execution_count": null,
      "outputs": [
        {
          "output_type": "execute_result",
          "data": {
            "text/plain": [
              "dtype('int64')"
            ]
          },
          "metadata": {},
          "execution_count": 14
        }
      ]
    },
    {
      "cell_type": "code",
      "source": [
        "a = np.array([1, 2, 3, 4, 5])\t\t# A one dimensional NumPy array.\n",
        "a[:2]"
      ],
      "metadata": {
        "id": "ZZVfX3JYWGOj",
        "colab": {
          "base_uri": "https://localhost:8080/"
        },
        "outputId": "1ace7400-cf83-4287-e5f1-e9bc59714bf8"
      },
      "execution_count": null,
      "outputs": [
        {
          "output_type": "execute_result",
          "data": {
            "text/plain": [
              "array([1, 2])"
            ]
          },
          "metadata": {},
          "execution_count": 15
        }
      ]
    },
    {
      "cell_type": "code",
      "source": [
        "a[-1]\t\t\t\t# The first element from last."
      ],
      "metadata": {
        "id": "Ud_1RdyzWGTI",
        "colab": {
          "base_uri": "https://localhost:8080/"
        },
        "outputId": "581f463d-5171-4689-db71-09ed0eaae3be"
      },
      "execution_count": null,
      "outputs": [
        {
          "output_type": "execute_result",
          "data": {
            "text/plain": [
              "5"
            ]
          },
          "metadata": {},
          "execution_count": 16
        }
      ]
    },
    {
      "cell_type": "code",
      "source": [
        "a[:]\t\t\t\t# The whole array."
      ],
      "metadata": {
        "id": "GxOWY8hAWGWE"
      },
      "execution_count": null,
      "outputs": []
    },
    {
      "cell_type": "code",
      "source": [
        "a = np.array([[1, 2, 3], [4, 5, 6], [7, 8, 9]])\t# This is a 3 x 3 two dimensional array (matrix).\n",
        "a"
      ],
      "metadata": {
        "id": "T3g9O1WNWGYj",
        "colab": {
          "base_uri": "https://localhost:8080/"
        },
        "outputId": "788aa6d4-6b2b-4380-d085-c402e2499dba"
      },
      "execution_count": null,
      "outputs": [
        {
          "output_type": "execute_result",
          "data": {
            "text/plain": [
              "array([[1, 2, 3],\n",
              "       [4, 5, 6],\n",
              "       [7, 8, 9]])"
            ]
          },
          "metadata": {},
          "execution_count": 23
        }
      ]
    },
    {
      "cell_type": "code",
      "source": [
        "a[1]\t\t\t\t# The row 1."
      ],
      "metadata": {
        "colab": {
          "base_uri": "https://localhost:8080/"
        },
        "id": "KeW3-hzbZOIw",
        "outputId": "36ab4d53-b36a-4435-9dc0-8705cd3493b5"
      },
      "execution_count": null,
      "outputs": [
        {
          "output_type": "execute_result",
          "data": {
            "text/plain": [
              "array([4, 5, 6])"
            ]
          },
          "metadata": {},
          "execution_count": 20
        }
      ]
    },
    {
      "cell_type": "code",
      "source": [
        "a[-1]\t\t\t\t# The last row."
      ],
      "metadata": {
        "id": "KuvWBSQMZOLg"
      },
      "execution_count": null,
      "outputs": []
    },
    {
      "cell_type": "code",
      "source": [
        "a[:]\t\t\t\t# The whole array (matrix)."
      ],
      "metadata": {
        "id": "o8n1NcI4ZOOb"
      },
      "execution_count": null,
      "outputs": []
    },
    {
      "cell_type": "code",
      "source": [
        "a[:2]\t\t\t\t# From the row 0 to the row 1 (excluding the row 2)."
      ],
      "metadata": {
        "colab": {
          "base_uri": "https://localhost:8080/"
        },
        "id": "nq092SFtZORF",
        "outputId": "251e52b6-97c5-4aae-f384-d8c0cb82bdc9"
      },
      "execution_count": null,
      "outputs": [
        {
          "output_type": "execute_result",
          "data": {
            "text/plain": [
              "array([[1, 2, 3],\n",
              "       [4, 5, 6]])"
            ]
          },
          "metadata": {},
          "execution_count": 21
        }
      ]
    },
    {
      "cell_type": "code",
      "source": [
        "a[2][1]\t\t\t# The element from the row 2 and the column 1.\t"
      ],
      "metadata": {
        "id": "Fio5oXSPZOWh"
      },
      "execution_count": null,
      "outputs": []
    },
    {
      "cell_type": "code",
      "source": [
        "a[2, 1]\t\t\t# The same as above."
      ],
      "metadata": {
        "id": "0uLyMCkpZOZP"
      },
      "execution_count": null,
      "outputs": []
    },
    {
      "cell_type": "code",
      "source": [
        "a[[0, 2]]\t\t\t# The rows 0 and 2."
      ],
      "metadata": {
        "id": "NJSiJZcEZOb4"
      },
      "execution_count": null,
      "outputs": []
    },
    {
      "cell_type": "code",
      "source": [
        "a[1:, 1:]\t\t\t# From the row 1 to the end. From the column 1 to the end."
      ],
      "metadata": {
        "colab": {
          "base_uri": "https://localhost:8080/"
        },
        "id": "BkjRepl1ZOgQ",
        "outputId": "a209ede4-c158-4183-d58c-2ba790f7611b"
      },
      "execution_count": null,
      "outputs": [
        {
          "output_type": "execute_result",
          "data": {
            "text/plain": [
              "array([[5, 6],\n",
              "       [8, 9]])"
            ]
          },
          "metadata": {},
          "execution_count": 22
        }
      ]
    },
    {
      "cell_type": "code",
      "source": [
        "arr = np.arange(100)\t\t# A sequence from 0 to 99."
      ],
      "metadata": {
        "id": "M1EqzbuPZOl9"
      },
      "execution_count": null,
      "outputs": []
    },
    {
      "cell_type": "code",
      "source": [
        "arrMask = ((arr % 5) == 0) \t\t# A Boolean array. True if multiple of 5, else False.\n",
        "arr[arrMask]\t\t\t# Apply fancy indexing. "
      ],
      "metadata": {
        "colab": {
          "base_uri": "https://localhost:8080/"
        },
        "id": "Cix0qMLDZ5Z4",
        "outputId": "0045c7bf-5afd-447c-b178-fa90fa726a7e"
      },
      "execution_count": null,
      "outputs": [
        {
          "output_type": "execute_result",
          "data": {
            "text/plain": [
              "array([ 0,  5, 10, 15, 20, 25, 30, 35, 40, 45, 50, 55, 60, 65, 70, 75, 80,\n",
              "       85, 90, 95])"
            ]
          },
          "metadata": {},
          "execution_count": 26
        }
      ]
    },
    {
      "cell_type": "code",
      "source": [
        "arrMask = ( ( (arr % 5) == 0 )  & ( arr >0) )\t# A Boolean array. True if multiple of 5 or 0, else False. \n",
        "arr[arrMask]\t\t\t# Apply fancy indexing."
      ],
      "metadata": {
        "colab": {
          "base_uri": "https://localhost:8080/"
        },
        "id": "0O-01pYCZ5eT",
        "outputId": "62b2cad1-8239-4301-8430-12376e6eceaf"
      },
      "execution_count": null,
      "outputs": [
        {
          "output_type": "execute_result",
          "data": {
            "text/plain": [
              "array([ 5, 10, 15, 20, 25, 30, 35, 40, 45, 50, 55, 60, 65, 70, 75, 80, 85,\n",
              "       90, 95])"
            ]
          },
          "metadata": {},
          "execution_count": 27
        }
      ]
    },
    {
      "cell_type": "code",
      "source": [
        "a.size\t\t\t\t # The total number of elements."
      ],
      "metadata": {
        "colab": {
          "base_uri": "https://localhost:8080/"
        },
        "id": "UYLN3BnFZ5iO",
        "outputId": "582db3ee-1a26-484b-f6fa-aa214b43f216"
      },
      "execution_count": null,
      "outputs": [
        {
          "output_type": "execute_result",
          "data": {
            "text/plain": [
              "9"
            ]
          },
          "metadata": {},
          "execution_count": 29
        }
      ]
    },
    {
      "cell_type": "code",
      "source": [
        "a.shape\t\t\t\t # The shape: number of rows and columns."
      ],
      "metadata": {
        "colab": {
          "base_uri": "https://localhost:8080/"
        },
        "id": "AdYd14VAZ5mG",
        "outputId": "2ffa33c0-85fb-4489-9f25-f575e66653dd"
      },
      "execution_count": null,
      "outputs": [
        {
          "output_type": "execute_result",
          "data": {
            "text/plain": [
              "(3, 3)"
            ]
          },
          "metadata": {},
          "execution_count": 30
        }
      ]
    },
    {
      "cell_type": "code",
      "source": [
        "a.ndim\t\t\t\t # The number of dimensions."
      ],
      "metadata": {
        "colab": {
          "base_uri": "https://localhost:8080/"
        },
        "id": "UKZdzsNTZ5pw",
        "outputId": "09637090-ed10-45a7-cb7c-9c84bec0100d"
      },
      "execution_count": null,
      "outputs": [
        {
          "output_type": "execute_result",
          "data": {
            "text/plain": [
              "2"
            ]
          },
          "metadata": {},
          "execution_count": 31
        }
      ]
    },
    {
      "cell_type": "code",
      "source": [
        "a = np.arange(15)\t\t\t # A sequence from 0 to 14. A 1D array.\n",
        "a"
      ],
      "metadata": {
        "colab": {
          "base_uri": "https://localhost:8080/"
        },
        "id": "2iQIFn2uZ5s-",
        "outputId": "4b1f7663-6c76-4221-bcf9-6b5a1b318576"
      },
      "execution_count": null,
      "outputs": [
        {
          "output_type": "execute_result",
          "data": {
            "text/plain": [
              "array([ 0,  1,  2,  3,  4,  5,  6,  7,  8,  9, 10, 11, 12, 13, 14])"
            ]
          },
          "metadata": {},
          "execution_count": 44
        }
      ]
    },
    {
      "cell_type": "code",
      "source": [
        "a.reshape(3,5)\t\t\t # Reshape it as a 3 x 5 matrix (2D array). This is just a view."
      ],
      "metadata": {
        "colab": {
          "base_uri": "https://localhost:8080/"
        },
        "id": "fZi5rOGCZ5wg",
        "outputId": "edf2bc38-5798-4c37-ba1b-691e5844c0f2"
      },
      "execution_count": null,
      "outputs": [
        {
          "output_type": "execute_result",
          "data": {
            "text/plain": [
              "array([[ 0,  1,  2,  3,  4],\n",
              "       [ 5,  6,  7,  8,  9],\n",
              "       [10, 11, 12, 13, 14]])"
            ]
          },
          "metadata": {},
          "execution_count": 45
        }
      ]
    },
    {
      "cell_type": "code",
      "source": [
        "a"
      ],
      "metadata": {
        "colab": {
          "base_uri": "https://localhost:8080/"
        },
        "id": "QyAp0sIoZ5z7",
        "outputId": "ce596153-5a6b-4554-e3b7-a865829342fe"
      },
      "execution_count": null,
      "outputs": [
        {
          "output_type": "execute_result",
          "data": {
            "text/plain": [
              "array([ 0,  1,  2,  3,  4,  5,  6,  7,  8,  9, 10, 11, 12, 13, 14])"
            ]
          },
          "metadata": {},
          "execution_count": 46
        }
      ]
    },
    {
      "cell_type": "code",
      "source": [
        "a.shape = (3, 5)\t\t\t# Change directly the 'shape' attribute. \n",
        "a\t\t\t\t# The reshaping is now permanent"
      ],
      "metadata": {
        "colab": {
          "base_uri": "https://localhost:8080/"
        },
        "id": "hqq55aivZ53V",
        "outputId": "5649c8c1-604f-4520-c9a9-f2a2c54d7a15"
      },
      "execution_count": null,
      "outputs": [
        {
          "output_type": "execute_result",
          "data": {
            "text/plain": [
              "array([[ 0,  1,  2,  3,  4],\n",
              "       [ 5,  6,  7,  8,  9],\n",
              "       [10, 11, 12, 13, 14]])"
            ]
          },
          "metadata": {},
          "execution_count": 37
        }
      ]
    },
    {
      "cell_type": "code",
      "source": [
        "a = np.array([2,5,1,3])\t\t\t # This is a 1D array (rank 1).\n",
        "a.shape"
      ],
      "metadata": {
        "colab": {
          "base_uri": "https://localhost:8080/"
        },
        "id": "CrXo9JYNZ56-",
        "outputId": "8853ce0d-3e37-4c55-c12c-5050598e2385"
      },
      "execution_count": null,
      "outputs": [
        {
          "output_type": "execute_result",
          "data": {
            "text/plain": [
              "(4,)"
            ]
          },
          "metadata": {},
          "execution_count": 47
        }
      ]
    },
    {
      "cell_type": "code",
      "source": [
        "a = a.reshape(4,1)\t\t\t# After reshaping, 'a' is reassigned.\n",
        "a        # Now, a single column matrix."
      ],
      "metadata": {
        "colab": {
          "base_uri": "https://localhost:8080/"
        },
        "id": "UCc7zU1nZ6AA",
        "outputId": "9ae9bbdf-c6f0-4c51-d8c0-97eb99a4b5b2"
      },
      "execution_count": null,
      "outputs": [
        {
          "output_type": "execute_result",
          "data": {
            "text/plain": [
              "array([[2],\n",
              "       [5],\n",
              "       [1],\n",
              "       [3]])"
            ]
          },
          "metadata": {},
          "execution_count": 49
        }
      ]
    },
    {
      "cell_type": "code",
      "source": [
        "a.shape\t\t\t# The reshaping is permanent."
      ],
      "metadata": {
        "colab": {
          "base_uri": "https://localhost:8080/"
        },
        "id": "5NCkvFtlZ6DK",
        "outputId": "bd45abc6-a36f-4b14-873d-e697fa4967b0"
      },
      "execution_count": null,
      "outputs": [
        {
          "output_type": "execute_result",
          "data": {
            "text/plain": [
              "(4, 1)"
            ]
          },
          "metadata": {},
          "execution_count": 50
        }
      ]
    },
    {
      "cell_type": "code",
      "source": [
        "a = np.arange(10)\t\t\t # A sequence from 0 to 9. A 1D array (rank 1).\n",
        "b = a.reshape(2,5)\t\t\t # Reshape as 2 x 5 then assign to 'b'.\n",
        "a[0] = -999\n",
        "b         # You can see that 'a' and 'b' share the same memory space!"
      ],
      "metadata": {
        "colab": {
          "base_uri": "https://localhost:8080/"
        },
        "id": "EVZTd92aZ6GI",
        "outputId": "e64c38ee-c470-49c5-caed-4c71b7af6333"
      },
      "execution_count": null,
      "outputs": [
        {
          "output_type": "execute_result",
          "data": {
            "text/plain": [
              "array([[-999,    1,    2,    3,    4],\n",
              "       [   5,    6,    7,    8,    9]])"
            ]
          },
          "metadata": {},
          "execution_count": 52
        }
      ]
    },
    {
      "cell_type": "code",
      "source": [
        "c = a.reshape(2,5).copy()\t\t# Now, make a shallow copy.\n",
        "c[0, 0] = 0\n",
        "a"
      ],
      "metadata": {
        "colab": {
          "base_uri": "https://localhost:8080/"
        },
        "id": "ug7PCnJfZ6Jh",
        "outputId": "fc94607b-de42-4e7b-cdb6-d6aab67bdce8"
      },
      "execution_count": null,
      "outputs": [
        {
          "output_type": "execute_result",
          "data": {
            "text/plain": [
              "array([-999,    1,    2,    3,    4,    5,    6,    7,    8,    9])"
            ]
          },
          "metadata": {},
          "execution_count": 53
        }
      ]
    },
    {
      "cell_type": "code",
      "source": [
        "a = np.array([1, 2, 3])\t\t# A 1D array (rank 1).\n",
        "b = np.append(a, [4, 5, 6])\t\t# Append new values and create a new array object.\n",
        "b"
      ],
      "metadata": {
        "colab": {
          "base_uri": "https://localhost:8080/"
        },
        "id": "OG3bx4NvZ6M1",
        "outputId": "69678606-f2c4-4bcb-d2df-64193adbc7ae"
      },
      "execution_count": null,
      "outputs": [
        {
          "output_type": "execute_result",
          "data": {
            "text/plain": [
              "array([1, 2, 3, 4, 5, 6])"
            ]
          },
          "metadata": {},
          "execution_count": 58
        }
      ]
    },
    {
      "cell_type": "code",
      "source": [
        "a = np.array([[1, 2], [3, 4]])        \t\t# A 2D array.\n",
        "b = np.append(a, [[9, 9]], axis=0)      \t# Append a row and create a new array object.\n",
        "b"
      ],
      "metadata": {
        "colab": {
          "base_uri": "https://localhost:8080/"
        },
        "id": "1ZBl50rCZ6Pf",
        "outputId": "cb599dc9-dc1e-4cda-d1c4-cfb8006ec00c"
      },
      "execution_count": null,
      "outputs": [
        {
          "output_type": "execute_result",
          "data": {
            "text/plain": [
              "array([[1, 2],\n",
              "       [3, 4],\n",
              "       [9, 9]])"
            ]
          },
          "metadata": {},
          "execution_count": 62
        }
      ]
    },
    {
      "cell_type": "code",
      "source": [
        "c = np.append(a, [[9], [9]] , axis=1)\t    # Append a column and create a new array object.\n",
        "c"
      ],
      "metadata": {
        "colab": {
          "base_uri": "https://localhost:8080/"
        },
        "id": "nVYOxPpKdFKn",
        "outputId": "02ca2295-33c4-4133-dc66-1a05bde5c7f9"
      },
      "execution_count": null,
      "outputs": [
        {
          "output_type": "execute_result",
          "data": {
            "text/plain": [
              "array([[1, 2, 9],\n",
              "       [3, 4, 9]])"
            ]
          },
          "metadata": {},
          "execution_count": 63
        }
      ]
    },
    {
      "cell_type": "code",
      "source": [
        "a = np.array([[1, 2, 3],[4, 5, 6]])\n",
        "np.delete(a, 0)\t\t\t # Delete the element at position 0. Just a view."
      ],
      "metadata": {
        "colab": {
          "base_uri": "https://localhost:8080/"
        },
        "id": "-5z6YE2kdQXw",
        "outputId": "aacb528d-78bb-41d6-f46a-e256bceb0524"
      },
      "execution_count": null,
      "outputs": [
        {
          "output_type": "execute_result",
          "data": {
            "text/plain": [
              "array([2, 3, 4, 5, 6])"
            ]
          },
          "metadata": {},
          "execution_count": 64
        }
      ]
    },
    {
      "cell_type": "code",
      "source": [
        "a"
      ],
      "metadata": {
        "colab": {
          "base_uri": "https://localhost:8080/"
        },
        "id": "oXmaupTWdQbw",
        "outputId": "93a8955c-32eb-45b8-e1f6-167525e32a7c"
      },
      "execution_count": null,
      "outputs": [
        {
          "output_type": "execute_result",
          "data": {
            "text/plain": [
              "array([[1, 2, 3],\n",
              "       [4, 5, 6]])"
            ]
          },
          "metadata": {},
          "execution_count": 65
        }
      ]
    },
    {
      "cell_type": "code",
      "source": [
        "np.delete(a, (0, 2, 4))\t\t# Delete the elements at positions 0, 2 and 4. Just a view."
      ],
      "metadata": {
        "colab": {
          "base_uri": "https://localhost:8080/"
        },
        "id": "WxC7MmM8dQfr",
        "outputId": "f424258f-8b12-418b-f544-2216c3c37cdb"
      },
      "execution_count": null,
      "outputs": [
        {
          "output_type": "execute_result",
          "data": {
            "text/plain": [
              "array([2, 4, 6])"
            ]
          },
          "metadata": {},
          "execution_count": 66
        }
      ]
    },
    {
      "cell_type": "code",
      "source": [
        "np.delete(a, 0, axis = 0)\t\t# Delete the row 0. Just a view. "
      ],
      "metadata": {
        "id": "Dy11griAdQm9"
      },
      "execution_count": null,
      "outputs": []
    },
    {
      "cell_type": "code",
      "source": [
        "np.delete(a, 1, axis = 1)\t\t# Delete the column 1. Just a view."
      ],
      "metadata": {
        "id": "XaYaSNwSdfpz"
      },
      "execution_count": null,
      "outputs": []
    },
    {
      "cell_type": "markdown",
      "source": [
        "## Time for Coding Exercise **'ex_0201.ipynb'** "
      ],
      "metadata": {
        "id": "88jxKUrIdjN8"
      }
    }
  ]
}